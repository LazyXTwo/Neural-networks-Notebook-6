{
 "cells": [
  {
   "cell_type": "markdown",
   "metadata": {},
   "source": [
    "# Neural Networks Exercise\n",
    "\n",
    "In this notebook, we will extend our `SGDClassifier` into a 2-layer neural network to train on a multinomial dataset.\n",
    "\n",
    "**Note: there is a jump from how scikit and PyTorch train their models.** It might be helpful to think that PyTorch sets the design of the computation graph first, then starts a session to \"feed\" the data for training.\n"
   ]
  },
  {
   "cell_type": "markdown",
   "metadata": {},
   "source": [
    "## Instructions for All Labs\n",
    "* Read each cell and implement the TODOs sequentially. The markdown/text cells also contain instructions which you need to follow to get the whole notebook working.\n",
    "* Do not change the variable names unless the instructor allows you to.\n",
    "* Some markdown cells contain questions.\n",
    "  * For questions <span style=\"color:red;\">colored in red</span>, you must submit your answers in the corresponding Assignment in the course page. Make sure that you enter your responses in the item with the matching question code. Answers that do not follow the prescribed format will automatically be marked wrong by the checker.\n",
    "  * For questions <span style=\"color:green;\">colored in green</span>, you don't have to submit your answers, but you must think about these questions as they will help enrich your understanding of the concepts covered in the labs.\n",
    "* You are expected to search how to some functions work on the Internet or via the docs. \n",
    "* You may add new cells for \"scrap work\".\n",
    "* The notebooks will undergo a \"Restart and Run All\" command, so make sure that your code is working properly.\n",
    "* You may not reproduce this notebook or share them to anyone."
   ]
  },
  {
   "cell_type": "markdown",
   "metadata": {},
   "source": [
    "## Import\n",
    "Import **matplotlib**, **csv**, **numpy**, and **torch**."
   ]
  },
  {
   "cell_type": "code",
   "execution_count": 110,
   "metadata": {},
   "outputs": [
    {
     "name": "stdout",
     "output_type": "stream",
     "text": [
      "The autoreload extension is already loaded. To reload it, use:\n",
      "  %reload_ext autoreload\n"
     ]
    }
   ],
   "source": [
    "from sklearn.model_selection import train_test_split\n",
    "import matplotlib.pyplot as plt\n",
    "import torch.optim as optim\n",
    "import torch.nn as nn\n",
    "import numpy as np\n",
    "import torch\n",
    "import csv\n",
    "import math\n",
    "\n",
    "%matplotlib inline\n",
    "\n",
    "# set default size of plots\n",
    "plt.rcParams['figure.figsize'] = (8.0, 8.0)\n",
    "plt.rcParams['image.interpolation'] = 'nearest'\n",
    "\n",
    "torch.manual_seed(0)\n",
    "\n",
    "\n",
    "%load_ext autoreload\n",
    "%autoreload 2"
   ]
  },
  {
   "cell_type": "markdown",
   "metadata": {},
   "source": [
    "# Synthetic Dataset\n",
    "\n",
    "Let's use the `make_blobs()` function to create a dataset with 1650 instances centered in (-6, 0), (0, 0), and (-3, -5)."
   ]
  },
  {
   "cell_type": "code",
   "execution_count": 111,
   "metadata": {},
   "outputs": [],
   "source": [
    "from sklearn.datasets import make_blobs\n",
    "\n",
    "centers = [[-6, 0], [0, 0], [-3, -5]]\n",
    "\n",
    "X, y = make_blobs(n_samples=1650, \n",
    "                  centers=centers, \n",
    "                  random_state=5)"
   ]
  },
  {
   "cell_type": "markdown",
   "metadata": {},
   "source": [
    "Let's get the number of instances per class. Below are our classes and their corresponding colors in the graph later.\n",
    "- class `0`, violet\n",
    "- class `1`, turquoise\n",
    "- class `2`, yellow"
   ]
  },
  {
   "cell_type": "code",
   "execution_count": 112,
   "metadata": {},
   "outputs": [
    {
     "name": "stdout",
     "output_type": "stream",
     "text": [
      "Number of class 0: 550\n",
      "Number of class 1: 550\n",
      "Number of class 2: 550\n"
     ]
    }
   ],
   "source": [
    "X_0 = X[y == 0]\n",
    "X_1 = X[y == 1]\n",
    "X_2 = X[y == 2]\n",
    "\n",
    "print('Number of class 0:', len(X_0))\n",
    "print('Number of class 1:', len(X_1))\n",
    "print('Number of class 2:', len(X_2))"
   ]
  },
  {
   "cell_type": "markdown",
   "metadata": {},
   "source": [
    "There are 550 instances for each class."
   ]
  },
  {
   "cell_type": "markdown",
   "metadata": {},
   "source": [
    "Let's divide the dataset into train and test set. The test set will contain 50 instances for each class."
   ]
  },
  {
   "cell_type": "code",
   "execution_count": 113,
   "metadata": {},
   "outputs": [
    {
     "name": "stdout",
     "output_type": "stream",
     "text": [
      "(150, 2)\n",
      "(150,)\n"
     ]
    }
   ],
   "source": [
    "np.random.seed(10)\n",
    "\n",
    "# Select 50 `class 0` instances\n",
    "selected_0 = np.random.choice(np.arange(len(X_0)),\n",
    "                              size=50,\n",
    "                              replace=False)\n",
    "\n",
    "# Select 50 `class 1` instances\n",
    "selected_1 = np.random.choice(np.arange(len(X_1)),\n",
    "                              size=50,\n",
    "                              replace=False)\n",
    "\n",
    "# Select 50 `class 2` instances\n",
    "selected_2 = np.random.choice(np.arange(len(X_2)),\n",
    "                              size=50,\n",
    "                              replace=False)\n",
    "\n",
    "# Form the test set\n",
    "X_test = np.concatenate((X_0[selected_0],\n",
    "                         X_1[selected_1],\n",
    "                         X_2[selected_2]))\n",
    "y_test = np.concatenate((np.array([0 for _ in range(50)]),\n",
    "                         np.array([1 for _ in range(50)]),\n",
    "                         np.array([2 for _ in range(50)])))\n",
    "\n",
    "print(X_test.shape)\n",
    "print(y_test.shape)"
   ]
  },
  {
   "cell_type": "markdown",
   "metadata": {},
   "source": [
    "The remaining 1500 instances will be a part of the train set, where each class has 500 instances."
   ]
  },
  {
   "cell_type": "code",
   "execution_count": 114,
   "metadata": {},
   "outputs": [
    {
     "name": "stdout",
     "output_type": "stream",
     "text": [
      "(1500, 2)\n",
      "(1500,)\n"
     ]
    }
   ],
   "source": [
    "X_train = np.concatenate((np.delete(X_0, selected_0, 0),\n",
    "                          np.delete(X_1, selected_1, 0),\n",
    "                          np.delete(X_2, selected_2, 0)))\n",
    "y_train = np.concatenate((np.array([0 for _ in range(500)]),\n",
    "                          np.array([1 for _ in range(500)]),\n",
    "                          np.array([2 for _ in range(500)])))\n",
    "\n",
    "print(X_train.shape)\n",
    "print(y_train.shape)"
   ]
  },
  {
   "cell_type": "markdown",
   "metadata": {},
   "source": [
    "Visualize the train data."
   ]
  },
  {
   "cell_type": "code",
   "execution_count": 115,
   "metadata": {},
   "outputs": [
    {
     "data": {
      "text/plain": [
       "Text(0.5, 1.0, 'Train data')"
      ]
     },
     "execution_count": 115,
     "metadata": {},
     "output_type": "execute_result"
    },
    {
     "data": {
      "image/png": "[encoded data removed]",
      "text/plain": [
       "<Figure size 800x800 with 1 Axes>"
      ]
     },
     "metadata": {},
     "output_type": "display_data"
    }
   ],
   "source": [
    "plt.scatter(X_train[:, 0], X_train[:, 1], c=y_train)\n",
    "plt.title('Train data')"
   ]
  },
  {
   "cell_type": "markdown",
   "metadata": {},
   "source": [
    "Visualize the test data."
   ]
  },
  {
   "cell_type": "code",
   "execution_count": 116,
   "metadata": {},
   "outputs": [
    {
     "data": {
      "text/plain": [
       "Text(0.5, 1.0, 'Test data')"
      ]
     },
     "execution_count": 116,
     "metadata": {},
     "output_type": "execute_result"
    },
    {
     "data": {
      "image/png": "[encoded data removed]",
      "text/plain": [
       "<Figure size 800x800 with 1 Axes>"
      ]
     },
     "metadata": {},
     "output_type": "display_data"
    }
   ],
   "source": [
    "plt.scatter(X_test[:, 0], X_test[:, 1], c=y_test)\n",
    "plt.title('Test data')"
   ]
  },
  {
   "cell_type": "markdown",
   "metadata": {},
   "source": [
    "**Sanity check:** You should have a similar graph like our training data, but now with fewer points. The colors should appear in the same area, too."
   ]
  },
  {
   "cell_type": "markdown",
   "metadata": {},
   "source": [
    "Convert the `np.ndarray` arrays to `torch.Tensor`. We use `torch.Tensor` in PyTorch."
   ]
  },
  {
   "cell_type": "markdown",
   "metadata": {},
   "source": [
    "Convert the variable `X_train` to the datatype `torch.Tensor` and assign the return value to variable `X_train`."
   ]
  },
  {
   "cell_type": "code",
   "execution_count": 117,
   "metadata": {},
   "outputs": [],
   "source": [
    "# Write your code here\n",
    "X_train = torch.tensor(X_train)"
   ]
  },
  {
   "cell_type": "markdown",
   "metadata": {},
   "source": [
    "Convert the variable `y_train` to the datatype `torch.Tensor` and assign the return value to variable `y_train`."
   ]
  },
  {
   "cell_type": "code",
   "execution_count": 118,
   "metadata": {},
   "outputs": [],
   "source": [
    "# Write your code here\n",
    "y_train = torch.tensor(y_train)"
   ]
  },
  {
   "cell_type": "markdown",
   "metadata": {},
   "source": [
    "Convert the variable `X_test` to the datatype `torch.Tensor` and assign the return value to variable `X_test`."
   ]
  },
  {
   "cell_type": "code",
   "execution_count": 119,
   "metadata": {},
   "outputs": [],
   "source": [
    "# Write your code here\n",
    "X_test = torch.tensor(X_test)"
   ]
  },
  {
   "cell_type": "markdown",
   "metadata": {},
   "source": [
    "Convert the variable `y_test` to the datatype `torch.Tensor` and assign the return value to variable `y_test`."
   ]
  },
  {
   "cell_type": "code",
   "execution_count": 120,
   "metadata": {},
   "outputs": [],
   "source": [
    "# Write your code here\n",
    "y_test = torch.tensor(y_test)"
   ]
  },
  {
   "cell_type": "markdown",
   "metadata": {},
   "source": [
    "This is the data which we will feed into our neural network model."
   ]
  },
  {
   "cell_type": "markdown",
   "metadata": {},
   "source": [
    "# Neural Network\n",
    "\n",
    "We will follow the pseudocode below:\n",
    "\n",
    "\n",
    "1. Set up the size of our network.\n",
    "2. Initialize weights variables.\n",
    "\n",
    "start loop\n",
    "3. Do forward propagation.\n",
    "4. Get the predictions.\n",
    "5. Calculate for the loss.\n",
    "6. Do backward propagation to update/optimize the weight variables.\n",
    "\n",
    "end loop\n",
    "\n",
    "Open `neural_network.py` file. Some of the functions in the `NeuralNetwork` class are not yet implemented. We will implement the missing parts of this class."
   ]
  },
  {
   "cell_type": "markdown",
   "metadata": {},
   "source": [
    "Import the `NeuralNetwork` class."
   ]
  },
  {
   "cell_type": "code",
   "execution_count": 121,
   "metadata": {},
   "outputs": [],
   "source": [
    "from neural_network import NeuralNetwork"
   ]
  },
  {
   "cell_type": "markdown",
   "metadata": {},
   "source": [
    "## Step 1. Setting up the size of the network\n",
    "\n",
    "Instantiate a `NeuralNetwork` object. Set the following parameters:\n",
    "- `list_hidden` = (5, 10)\n",
    "- `activation` = `sigmoid`\n",
    "\n",
    "Here, we are creating a Neural Network with two hidden layers, where there are 5 units in the first layer and 10 units in the second layer.\n",
    "\n",
    "Set the other parameters according to the synthetic dataset that we created earlier."
   ]
  },
  {
   "cell_type": "code",
   "execution_count": 122,
   "metadata": {},
   "outputs": [],
   "source": [
    "# Write your code here\n",
    "input_size = X_train.shape [1]\n",
    "num_classes = len(torch.unique(y_train))\n",
    "\n",
    "network = NeuralNetwork(\n",
    "    input_size,\n",
    "    num_classes,\n",
    "    list_hidden = (5,10),\n",
    "    activation = 'sigmoid'\n",
    ")\n"
   ]
  },
  {
   "cell_type": "markdown",
   "metadata": {},
   "source": [
    "Open `neural_network.py` file and complete the `create_network()` function in the `NeuralNetwork` class. This function creates the layers of the neural network."
   ]
  },
  {
   "cell_type": "markdown",
   "metadata": {},
   "source": [
    "Implement the `create_network()` function  in the `NeuralNetwork` class. Inline comments should help you in completing the contents of the function."
   ]
  },
  {
   "cell_type": "markdown",
   "metadata": {},
   "source": [
    "Create the layers of the neural network by calling the function `create_network()`."
   ]
  },
  {
   "cell_type": "code",
   "execution_count": 123,
   "metadata": {},
   "outputs": [],
   "source": [
    "# Write your code here\n",
    "network.create_network()"
   ]
  },
  {
   "cell_type": "markdown",
   "metadata": {},
   "source": [
    "Create the layers of the neural network by calling the function `create_network()`."
   ]
  },
  {
   "cell_type": "markdown",
   "metadata": {},
   "source": [
    "Display the structure of the neural network."
   ]
  },
  {
   "cell_type": "code",
   "execution_count": 124,
   "metadata": {},
   "outputs": [
    {
     "name": "stdout",
     "output_type": "stream",
     "text": [
      "NeuralNetwork(\n",
      "  (layers): Sequential(\n",
      "    (0): Linear(in_features=2, out_features=5, bias=True)\n",
      "    (1): Sigmoid()\n",
      "    (2): Linear(in_features=5, out_features=10, bias=True)\n",
      "    (3): Sigmoid()\n",
      "    (4): Linear(in_features=10, out_features=3, bias=True)\n",
      "    (5): Softmax(dim=1)\n",
      "  )\n",
      ")\n"
     ]
    }
   ],
   "source": [
    "print(network)"
   ]
  },
  {
   "cell_type": "markdown",
   "metadata": {},
   "source": [
    "<span style=\"color:red;\">**Question 6-2:** Give the values of the `in_features` and `out_features` of the first `nn.Linear` module (Index 0).</span>"
   ]
  },
  {
   "cell_type": "markdown",
   "metadata": {},
   "source": [
    "in_features = 2, out_features = 5"
   ]
  },
  {
   "cell_type": "markdown",
   "metadata": {},
   "source": [
    "<span style=\"color:red;\">**Question 6-3:** Give the values of the `in_features` and `out_features` of the last `nn.Linear` module (Index 4).</span>"
   ]
  },
  {
   "cell_type": "markdown",
   "metadata": {},
   "source": [
    "in_features = 10, out_features = 3"
   ]
  },
  {
   "cell_type": "markdown",
   "metadata": {},
   "source": [
    "<span style=\"color:red;\">**Question 6-4:** Give the total number of parameters of the model.</span>"
   ]
  },
  {
   "cell_type": "markdown",
   "metadata": {},
   "source": [
    "2 * 5 + 5 = 15\n",
    "\n",
    "5 * 10 + 10 = 60\n",
    "\n",
    "10 * 3 + 3 = 33\n",
    "\n",
    "\n",
    "15 + 60 + 33 = 108"
   ]
  },
  {
   "cell_type": "markdown",
   "metadata": {},
   "source": [
    "## Step 2. Initializing the model weights\n",
    "\n",
    "Open `neural_network.py` file and complete the `init_weights()` function in the `NeuralNetwork` class. This function initializes the weight of the network. Weights of a `nn.Linear` layer should be initialized from a normal distribution with mean `0` and standard deviation `0.1`. Bias terms of a `nn.Linear` layer should be initialized with a constant value of `0`."
   ]
  },
  {
   "cell_type": "markdown",
   "metadata": {},
   "source": [
    "Implement the `init_weights()` function  in the `NeuralNetwork` class. Inline comments should help you in completing the contents of the function."
   ]
  },
  {
   "cell_type": "markdown",
   "metadata": {},
   "source": [
    "Initialize the weights of the neural network by calling the function `init_weights()`."
   ]
  },
  {
   "cell_type": "code",
   "execution_count": 125,
   "metadata": {},
   "outputs": [],
   "source": [
    "# Write your code here\n",
    "network.init_weights()"
   ]
  },
  {
   "cell_type": "markdown",
   "metadata": {},
   "source": [
    "Display the weight of the 1st `nn.Linear` layer in the network."
   ]
  },
  {
   "cell_type": "code",
   "execution_count": 126,
   "metadata": {},
   "outputs": [
    {
     "name": "stdout",
     "output_type": "stream",
     "text": [
      "Parameter containing:\n",
      "tensor([[ 0.0392, -0.0224],\n",
      "        [-0.0320, -0.1205],\n",
      "        [ 0.1044, -0.0633],\n",
      "        [ 0.0573,  0.0541],\n",
      "        [-0.0392, -0.1043]], requires_grad=True)\n"
     ]
    }
   ],
   "source": [
    "print(network.layers[0].weight)"
   ]
  },
  {
   "cell_type": "markdown",
   "metadata": {},
   "source": [
    "**Sanity check:** The output of the previous cell should look like:\n",
    "\n",
    "```\n",
    "Parameter containing:\n",
    "tensor([[ x.xxxx, x.xxxx],\n",
    "        ...\n",
    "        [ x.xxxx, x.xxxx]], requires_grad=True)```\n",
    "        \n",
    "where `x.xxxx` is some float."
   ]
  },
  {
   "cell_type": "markdown",
   "metadata": {},
   "source": [
    "<span style=\"color:red;\">**Question 6-5:** Give the first value in the first row of the weights of the 1st `nn.Linear` layer in the network. Limit to four decimal places.</span>"
   ]
  },
  {
   "cell_type": "markdown",
   "metadata": {},
   "source": [
    "0.0392"
   ]
  },
  {
   "cell_type": "markdown",
   "metadata": {},
   "source": [
    "Display the bias term of the 1st `nn.Linear` layer in the network."
   ]
  },
  {
   "cell_type": "code",
   "execution_count": 127,
   "metadata": {},
   "outputs": [
    {
     "name": "stdout",
     "output_type": "stream",
     "text": [
      "Parameter containing:\n",
      "tensor([0., 0., 0., 0., 0.], requires_grad=True)\n"
     ]
    }
   ],
   "source": [
    "print(network.layers[0].bias)"
   ]
  },
  {
   "cell_type": "markdown",
   "metadata": {},
   "source": [
    "**Sanity check:** The output of the previous cell should be:\n",
    "\n",
    "```\n",
    "Parameter containing:\n",
    "tensor([0., 0., 0., 0., 0.], requires_grad=True)```"
   ]
  },
  {
   "cell_type": "markdown",
   "metadata": {},
   "source": [
    "Display the weight of the 2nd `nn.Linear` layer in the network."
   ]
  },
  {
   "cell_type": "code",
   "execution_count": 128,
   "metadata": {
    "scrolled": true
   },
   "outputs": [
    {
     "name": "stdout",
     "output_type": "stream",
     "text": [
      "Parameter containing:\n",
      "tensor([[ 0.0030, -0.0050,  0.1065,  0.0886, -0.0811],\n",
      "        [ 0.0674, -0.1123, -0.0092,  0.0140,  0.1119],\n",
      "        [ 0.0315,  0.1753, -0.0740, -0.1242, -0.0175],\n",
      "        [ 0.0699, -0.1294, -0.0024, -0.0235, -0.0709],\n",
      "        [-0.0866, -0.0266,  0.0167,  0.0791, -0.0932],\n",
      "        [-0.0858, -0.0965, -0.0099, -0.0299, -0.0065],\n",
      "        [-0.1572, -0.1321,  0.0045,  0.1585, -0.0236],\n",
      "        [ 0.0944,  0.0546, -0.1358,  0.1145, -0.0965],\n",
      "        [-0.0259, -0.0042,  0.0189,  0.2143, -0.0278],\n",
      "        [ 0.0551,  0.0015, -0.0918, -0.1234,  0.0254]], requires_grad=True)\n"
     ]
    }
   ],
   "source": [
    "# Write your code here\n",
    "print(network.layers[2].weight)"
   ]
  },
  {
   "cell_type": "markdown",
   "metadata": {},
   "source": [
    "<span style=\"color:red;\">**Question 6-6:** Give the last value in the last row of the weights of the 2nd `nn.Linear` layer in the network. Limit to four decimal places.</span>"
   ]
  },
  {
   "cell_type": "markdown",
   "metadata": {},
   "source": [
    "0.0254"
   ]
  },
  {
   "cell_type": "markdown",
   "metadata": {},
   "source": [
    "Display the bias term of the 2nd `nn.Linear` layer in the network."
   ]
  },
  {
   "cell_type": "code",
   "execution_count": 129,
   "metadata": {},
   "outputs": [
    {
     "name": "stdout",
     "output_type": "stream",
     "text": [
      "Parameter containing:\n",
      "tensor([0., 0., 0., 0., 0., 0., 0., 0., 0., 0.], requires_grad=True)\n"
     ]
    }
   ],
   "source": [
    "# Write your code here\n",
    "print(network.layers[2].bias)"
   ]
  },
  {
   "cell_type": "markdown",
   "metadata": {},
   "source": [
    "Display the weight of the 3rd `nn.Linear` layer in the network."
   ]
  },
  {
   "cell_type": "code",
   "execution_count": 130,
   "metadata": {},
   "outputs": [
    {
     "name": "stdout",
     "output_type": "stream",
     "text": [
      "Parameter containing:\n",
      "tensor([[ 0.0334,  0.0176,  0.0486,  0.0277,  0.0599, -0.0302, -0.0745, -0.1091,\n",
      "         -0.1047, -0.1577],\n",
      "        [ 0.0427,  0.0679,  0.0918,  0.0481,  0.0506,  0.1519, -0.0490,  0.0923,\n",
      "          0.1998,  0.1483],\n",
      "        [ 0.0195, -0.1137, -0.0924,  0.1874,  0.1012, -0.1448,  0.0176,  0.0606,\n",
      "          0.0311, -0.1692]], requires_grad=True)\n"
     ]
    }
   ],
   "source": [
    "# Write your code here\n",
    "print(network.layers[4].weight)"
   ]
  },
  {
   "cell_type": "markdown",
   "metadata": {},
   "source": [
    "<span style=\"color:red;\">**Question 6-7:** Give the first value in the first row of the weights of the 3rd `nn.Linear` layer in the network. Limit to four decimal places.</span>"
   ]
  },
  {
   "cell_type": "markdown",
   "metadata": {},
   "source": [
    "0.0334"
   ]
  },
  {
   "cell_type": "markdown",
   "metadata": {},
   "source": [
    "Display the bias term of the 3rd `nn.Linear` layer in the network."
   ]
  },
  {
   "cell_type": "code",
   "execution_count": 131,
   "metadata": {
    "scrolled": true
   },
   "outputs": [
    {
     "name": "stdout",
     "output_type": "stream",
     "text": [
      "Parameter containing:\n",
      "tensor([0., 0., 0.], requires_grad=True)\n"
     ]
    }
   ],
   "source": [
    "# Write your code here\n",
    "print(network.layers[4].bias)"
   ]
  },
  {
   "cell_type": "markdown",
   "metadata": {},
   "source": [
    "## Step 3. Forward propagation\n",
    "\n",
    "Forward propagation computes the output of each layer in the neural network. \n",
    "\n",
    "Open `neural_network.py` file and complete the `forward_manual()` function in the `NeuralNetwork` class. This function performs the forward propagation of the model, implemented manually. You have to manually implement the computation of the output of each linear layer in the network."
   ]
  },
  {
   "cell_type": "markdown",
   "metadata": {},
   "source": [
    "Implement the `forward_manual()` function  in the `NeuralNetwork` class. Inline comments should help you in completing the contents of the function."
   ]
  },
  {
   "cell_type": "markdown",
   "metadata": {},
   "source": [
    "Perform forward propagation in the model by calling the function `forward_manual`. Pass the training instance in index `0`. Set `verbose=True`. Assign the return values to variables `scores` and `probabilities.`\n",
    "\n",
    "The function should display the output of the model for in each layer."
   ]
  },
  {
   "cell_type": "code",
   "execution_count": 133,
   "metadata": {},
   "outputs": [
    {
     "name": "stdout",
     "output_type": "stream",
     "text": [
      "Output of layer 0\n",
      "tensor([[-0.3000,  0.1435, -0.8014, -0.3752,  0.2076],\n",
      "        [-0.2101,  0.2248, -0.5579, -0.3405,  0.2589],\n",
      "        [-0.2317, -0.0689, -0.6240, -0.1774, -0.0036],\n",
      "        ...,\n",
      "        [-0.1162,  0.6956, -0.2928, -0.5456,  0.6645],\n",
      "        [-0.0134,  0.6296, -0.0186, -0.4065,  0.5781],\n",
      "        [-0.0134,  0.5994, -0.0195, -0.3876,  0.5505]], grad_fn=<AddBackward0>) \n",
      "\n",
      "Output of layer 1\n",
      "tensor([[0.4256, 0.5358, 0.3097, 0.4073, 0.5517],\n",
      "        [0.4477, 0.5560, 0.3640, 0.4157, 0.5644],\n",
      "        [0.4423, 0.4828, 0.3489, 0.4558, 0.4991],\n",
      "        ...,\n",
      "        [0.4710, 0.6672, 0.4273, 0.3669, 0.6603],\n",
      "        [0.4967, 0.6524, 0.4953, 0.3998, 0.6406],\n",
      "        [0.4967, 0.6455, 0.4951, 0.4043, 0.6343]], grad_fn=<SigmoidBackward0>) \n",
      "\n",
      "Output of layer 2\n",
      "tensor([[ 2.2934e-02,  3.3100e-02,  2.4151e-02,  ...,  2.0836e-02,\n",
      "          6.4537e-02, -4.0427e-02],\n",
      "        [ 2.8403e-02,  3.3358e-02,  2.3102e-02,  ...,  1.6392e-02,\n",
      "          6.6351e-02, -4.4880e-02],\n",
      "        [ 3.5981e-02,  3.4616e-02,  7.3904e-03,  ...,  2.4837e-02,\n",
      "          7.6917e-02, -5.0499e-02],\n",
      "        ...,\n",
      "        [ 2.2557e-02,  3.1900e-02,  4.3034e-02,  ...,  1.2401e-03,\n",
      "          5.3351e-02, -4.0779e-02],\n",
      "        [ 3.4458e-02,  3.2929e-02,  3.2481e-02,  ..., -7.2001e-04,\n",
      "          6.1620e-02, -5.0189e-02],\n",
      "        [ 3.5388e-02,  3.3054e-02,  3.0838e-02,  ...,  6.7517e-05,\n",
      "          6.2795e-02, -5.0902e-02]], grad_fn=<AddBackward0>) \n",
      "\n",
      "Output of layer 3\n",
      "tensor([[0.5057, 0.5083, 0.5060,  ..., 0.5052, 0.5161, 0.4899],\n",
      "        [0.5071, 0.5083, 0.5058,  ..., 0.5041, 0.5166, 0.4888],\n",
      "        [0.5090, 0.5087, 0.5018,  ..., 0.5062, 0.5192, 0.4874],\n",
      "        ...,\n",
      "        [0.5056, 0.5080, 0.5108,  ..., 0.5003, 0.5133, 0.4898],\n",
      "        [0.5086, 0.5082, 0.5081,  ..., 0.4998, 0.5154, 0.4875],\n",
      "        [0.5088, 0.5083, 0.5077,  ..., 0.5000, 0.5157, 0.4873]],\n",
      "       grad_fn=<SigmoidBackward0>) \n",
      "\n",
      "Output of layer 4\n",
      "tensor([[-0.1437,  0.4208, -0.0526],\n",
      "        [-0.1434,  0.4205, -0.0524],\n",
      "        [-0.1439,  0.4211, -0.0509],\n",
      "        ...,\n",
      "        [-0.1424,  0.4195, -0.0543],\n",
      "        [-0.1421,  0.4194, -0.0532],\n",
      "        [-0.1422,  0.4194, -0.0531]], grad_fn=<AddBackward0>) \n",
      "\n",
      "Output of layer 5\n",
      "tensor([[0.2595, 0.4563, 0.2842],\n",
      "        [0.2596, 0.4562, 0.2843],\n",
      "        [0.2593, 0.4562, 0.2845],\n",
      "        ...,\n",
      "        [0.2600, 0.4560, 0.2839],\n",
      "        [0.2600, 0.4558, 0.2842],\n",
      "        [0.2600, 0.4558, 0.2842]], grad_fn=<SoftmaxBackward0>) \n",
      "\n"
     ]
    }
   ],
   "source": [
    "# Write your code here\n",
    "X_train = X_train.to(torch.float32)\n",
    "scores, probabilities = network.forward_manual(X_train, verbose=True)\n"
   ]
  },
  {
   "cell_type": "markdown",
   "metadata": {},
   "source": [
    "**Sanity check:** Let's call the pre-implemented `forward()` function of the model. This function also performs forward propagation, but using the operations defined in Pytorch modules. Thus, the output of our implementation of the `forward_manual()` function should be the same as the output of the `forward()` function below."
   ]
  },
  {
   "cell_type": "code",
   "execution_count": 134,
   "metadata": {},
   "outputs": [
    {
     "data": {
      "text/plain": [
       "(tensor([[-0.1437,  0.4208, -0.0526],\n",
       "         [-0.1434,  0.4205, -0.0524],\n",
       "         [-0.1439,  0.4211, -0.0509],\n",
       "         ...,\n",
       "         [-0.1424,  0.4195, -0.0543],\n",
       "         [-0.1421,  0.4194, -0.0532],\n",
       "         [-0.1422,  0.4194, -0.0531]], grad_fn=<AddmmBackward0>),\n",
       " tensor([[0.2595, 0.4563, 0.2842],\n",
       "         [0.2596, 0.4562, 0.2843],\n",
       "         [0.2593, 0.4562, 0.2845],\n",
       "         ...,\n",
       "         [0.2600, 0.4560, 0.2839],\n",
       "         [0.2600, 0.4558, 0.2842],\n",
       "         [0.2600, 0.4558, 0.2842]], grad_fn=<SoftmaxBackward0>))"
      ]
     },
     "execution_count": 134,
     "metadata": {},
     "output_type": "execute_result"
    }
   ],
   "source": [
    "# Write your code here\n",
    "network.forward(X_train)"
   ]
  },
  {
   "cell_type": "markdown",
   "metadata": {},
   "source": [
    "<span style=\"color:red;\">**Question 6-8:** What is the sum of the output of the last layer of the network? Limit to four decimal places.</span>"
   ]
  },
  {
   "cell_type": "markdown",
   "metadata": {},
   "source": [
    "0.2600 + 0.4558 + 0.2842 = 1"
   ]
  },
  {
   "cell_type": "markdown",
   "metadata": {},
   "source": [
    "<span style=\"color:red;\">**Question 6-9:** Why did we get the sum?</span>"
   ]
  },
  {
   "cell_type": "markdown",
   "metadata": {},
   "source": [
    "due to the use of softmax function which output a probability"
   ]
  },
  {
   "cell_type": "markdown",
   "metadata": {},
   "source": [
    "## Step 4. Getting the predictions\n",
    "\n",
    "Since this is a multinomial classification problem, the predicted class corresponds to the class with the highest probability.\n",
    "\n",
    "Open `neural_network.py` file and complete the `predict()` function in the `NeuralNetwork` class. This function returns the index of the class with the highest probability."
   ]
  },
  {
   "cell_type": "markdown",
   "metadata": {},
   "source": [
    "Implement the `predict()` function  in the `NeuralNetwork` class. Inline comments should help you in completing the contents of the function."
   ]
  },
  {
   "cell_type": "markdown",
   "metadata": {},
   "source": [
    "Get 10 random training instances in the dataset."
   ]
  },
  {
   "cell_type": "code",
   "execution_count": 135,
   "metadata": {
    "scrolled": true
   },
   "outputs": [
    {
     "name": "stdout",
     "output_type": "stream",
     "text": [
      "Random indices:  [1289 1149  527 1344 1393 1147 1180  733 1032 1097]\n"
     ]
    }
   ],
   "source": [
    "np.random.seed(10)\n",
    "random_indices = np.random.randint(X_train.shape[0], \n",
    "                                   size=10)\n",
    "print('Random indices: ', random_indices)"
   ]
  },
  {
   "cell_type": "markdown",
   "metadata": {},
   "source": [
    "Compute the scores and probabilities of the random training instances by calling the function `forward()`. Assign the return values to variables `scores` and `probabilities`."
   ]
  },
  {
   "cell_type": "code",
   "execution_count": 137,
   "metadata": {},
   "outputs": [],
   "source": [
    "# Write your code here\n",
    "scores, probabilities = network.forward(X_train[random_indices])"
   ]
  },
  {
   "cell_type": "markdown",
   "metadata": {},
   "source": [
    "Print the raw scores of random instances in the dataset."
   ]
  },
  {
   "cell_type": "code",
   "execution_count": 138,
   "metadata": {},
   "outputs": [
    {
     "name": "stdout",
     "output_type": "stream",
     "text": [
      "tensor([[-0.1422,  0.4195, -0.0527],\n",
      "        [-0.1423,  0.4196, -0.0529],\n",
      "        [-0.1434,  0.4207, -0.0495],\n",
      "        [-0.1420,  0.4193, -0.0534],\n",
      "        [-0.1417,  0.4189, -0.0538],\n",
      "        [-0.1422,  0.4194, -0.0539],\n",
      "        [-0.1420,  0.4193, -0.0535],\n",
      "        [-0.1432,  0.4207, -0.0491],\n",
      "        [-0.1418,  0.4190, -0.0543],\n",
      "        [-0.1423,  0.4195, -0.0527]], grad_fn=<AddmmBackward0>)\n"
     ]
    }
   ],
   "source": [
    "# Write your code here\n",
    "print(scores)\n"
   ]
  },
  {
   "cell_type": "markdown",
   "metadata": {},
   "source": [
    "Print the probabilities of random instances in the dataset."
   ]
  },
  {
   "cell_type": "code",
   "execution_count": 139,
   "metadata": {},
   "outputs": [
    {
     "name": "stdout",
     "output_type": "stream",
     "text": [
      "tensor([[0.2599, 0.4558, 0.2843],\n",
      "        [0.2599, 0.4559, 0.2842],\n",
      "        [0.2593, 0.4558, 0.2848],\n",
      "        [0.2600, 0.4558, 0.2841],\n",
      "        [0.2602, 0.4558, 0.2841],\n",
      "        [0.2600, 0.4559, 0.2840],\n",
      "        [0.2600, 0.4558, 0.2841],\n",
      "        [0.2593, 0.4558, 0.2849],\n",
      "        [0.2602, 0.4559, 0.2840],\n",
      "        [0.2599, 0.4558, 0.2843]], grad_fn=<SoftmaxBackward0>)\n"
     ]
    }
   ],
   "source": [
    "# Write your code here\n",
    "print(probabilities)\n"
   ]
  },
  {
   "cell_type": "markdown",
   "metadata": {},
   "source": [
    "Get the predicted class by calling the function `predict()`. Store the predicted labels in the variable `predictions`."
   ]
  },
  {
   "cell_type": "code",
   "execution_count": 140,
   "metadata": {},
   "outputs": [],
   "source": [
    "# Write your code here\n",
    "predictions = network.predict(probabilities)"
   ]
  },
  {
   "cell_type": "code",
   "execution_count": 141,
   "metadata": {},
   "outputs": [
    {
     "name": "stdout",
     "output_type": "stream",
     "text": [
      "tensor([1, 1, 1, 1, 1, 1, 1, 1, 1, 1])\n"
     ]
    }
   ],
   "source": [
    "print(predictions)"
   ]
  },
  {
   "cell_type": "markdown",
   "metadata": {},
   "source": [
    "**Sanity Check:** All selected training examples are currently being classified under one class."
   ]
  },
  {
   "cell_type": "markdown",
   "metadata": {},
   "source": [
    "<span style=\"color:red;\">**Question 6-10:** Obviously, the predicted class received the highest probability among the other classes. Why are all selected training examples being classified under one class?</span>"
   ]
  },
  {
   "cell_type": "markdown",
   "metadata": {},
   "source": [
    "Might be due to not having enough data therfore making the learning rate really low, another issue could be the weight initialization and the imbalance of the data set"
   ]
  },
  {
   "cell_type": "markdown",
   "metadata": {},
   "source": [
    "## Step 5. Calculating the loss\n",
    "\n",
    "Since this is a multinomial classification problem, we need to use cross entropy loss.\n",
    "\n",
    "In PyTorch, we can use `nn.CrossEntropyLoss()` to calculate the cross entropy loss between the raw score output of the model and the target class. You may read the documentation [here](https://pytorch.org/docs/stable/generated/torch.nn.CrossEntropyLoss.html#torch.nn.CrossEntropyLoss)."
   ]
  },
  {
   "cell_type": "markdown",
   "metadata": {},
   "source": [
    "Instantiate a `nn.CrossEntropy()` object. Do not change any default values set as parameter. Assign it to the variable `criterion`."
   ]
  },
  {
   "cell_type": "code",
   "execution_count": 142,
   "metadata": {},
   "outputs": [],
   "source": [
    "# Write your code here\n",
    "criterion = nn.CrossEntropyLoss()"
   ]
  },
  {
   "cell_type": "markdown",
   "metadata": {},
   "source": [
    "Get the target classes of the random training examples from the previous step. Convert the `torch.Tensor` to `torch.long`. This is because `nn.CrossEntropyLoss()` expects the target classes to be represented as a `long` and not `float`. Assign the return value to variable `target_classes`."
   ]
  },
  {
   "cell_type": "code",
   "execution_count": 143,
   "metadata": {},
   "outputs": [
    {
     "name": "stdout",
     "output_type": "stream",
     "text": [
      "torch.int64\n",
      "torch.int64\n"
     ]
    }
   ],
   "source": [
    "# Write your code here\n",
    "target_classes = y_train[random_indices]\n",
    "target_classes = target_classes\n",
    " \n",
    "print(target_classes.dtype) #torch.float32\n",
    "\n",
    "target_classes = target_classes.long()\n",
    "print(target_classes.dtype) #torch.int64"
   ]
  },
  {
   "cell_type": "markdown",
   "metadata": {},
   "source": [
    "Compute the loss and assign the return value to variable `loss`.\n",
    "\n",
    "To note, the loss function accepts the score output of the model, not the probabilities. Read the documentation to understand values to pass for the `input` and the `target` parameters."
   ]
  },
  {
   "cell_type": "code",
   "execution_count": 144,
   "metadata": {},
   "outputs": [],
   "source": [
    "# Write your code here\n",
    "loss = criterion(scores, target_classes)"
   ]
  },
  {
   "cell_type": "markdown",
   "metadata": {},
   "source": [
    "Print the loss."
   ]
  },
  {
   "cell_type": "code",
   "execution_count": 145,
   "metadata": {},
   "outputs": [
    {
     "name": "stdout",
     "output_type": "stream",
     "text": [
      "Loss: 1.1638\n"
     ]
    }
   ],
   "source": [
    "print('Loss: {:.4f}'.format(loss.item()))"
   ]
  },
  {
   "cell_type": "markdown",
   "metadata": {},
   "source": [
    "<span style=\"color:red;\">**Question 6-11:** What is the loss in this scenario? Limit to 4 decimal places.</span>"
   ]
  },
  {
   "cell_type": "markdown",
   "metadata": {},
   "source": [
    "1.1638"
   ]
  },
  {
   "cell_type": "markdown",
   "metadata": {},
   "source": [
    "## Step 6: Backward propagation for optimizing weights\n",
    "\n",
    "The next step would be to perform backward propagation to update the weights of the model. This will make the model better in classifying the input data. In PyTorch, we can call `backward()` function of the loss module to perform backward propagation. We also need to instantiate an optimizer to update the weights.\n",
    "\n",
    "Read this [documentation](https://pytorch.org/docs/stable/optim.html#taking-an-optimization-step) to learn the general pseudocode for updating weights in PyTorch."
   ]
  },
  {
   "cell_type": "markdown",
   "metadata": {},
   "source": [
    "We will use Adam as our optimizer.\n",
    "\n",
    "Instantiate an `optim.Adam` object. Set the following parameters:\n",
    "- `params` = Set this to the parameters of your network\n",
    "- `lr` = `0.001`"
   ]
  },
  {
   "cell_type": "code",
   "execution_count": 146,
   "metadata": {},
   "outputs": [],
   "source": [
    "# Write your code here\n",
    "optimizer = optim.Adam(params=network.parameters(), lr=0.001)"
   ]
  },
  {
   "cell_type": "markdown",
   "metadata": {},
   "source": [
    "Empty the gradients of the network."
   ]
  },
  {
   "cell_type": "code",
   "execution_count": 147,
   "metadata": {},
   "outputs": [],
   "source": [
    "# Write your code here\n",
    "optimizer.zero_grad()"
   ]
  },
  {
   "cell_type": "markdown",
   "metadata": {},
   "source": [
    "Compute the gradients through backward propagation."
   ]
  },
  {
   "cell_type": "code",
   "execution_count": 148,
   "metadata": {
    "scrolled": true
   },
   "outputs": [],
   "source": [
    "# Write your code here\n",
    "loss.backward()"
   ]
  },
  {
   "cell_type": "markdown",
   "metadata": {},
   "source": [
    "Update the weights."
   ]
  },
  {
   "cell_type": "code",
   "execution_count": 149,
   "metadata": {},
   "outputs": [],
   "source": [
    "# Write your code here\n",
    "optimizer.step()"
   ]
  },
  {
   "cell_type": "markdown",
   "metadata": {},
   "source": [
    "Display the weight of the 1st `nn.Linear` layer in the network after updating."
   ]
  },
  {
   "cell_type": "code",
   "execution_count": 150,
   "metadata": {
    "scrolled": true
   },
   "outputs": [
    {
     "name": "stdout",
     "output_type": "stream",
     "text": [
      "Parameter containing:\n",
      "tensor([[ 0.0402, -0.0214],\n",
      "        [-0.0310, -0.1195],\n",
      "        [ 0.1034, -0.0643],\n",
      "        [ 0.0563,  0.0531],\n",
      "        [-0.0382, -0.1033]], requires_grad=True)\n"
     ]
    }
   ],
   "source": [
    "# Write your code here\n",
    "print(network.layers[0].weight)"
   ]
  },
  {
   "cell_type": "markdown",
   "metadata": {},
   "source": [
    "**Sanity check:** The output of the previous cell should be different from the initial set of weights, which is:\n",
    "\n",
    "```\n",
    "Parameter containing:\n",
    "tensor([[ x.xxxx, x.xxxx],\n",
    "        ...\n",
    "        [ x.xxxx, x.xxxx]], requires_grad=True)```\n",
    "        \n",
    "where `x.xxxx` is some float."
   ]
  },
  {
   "cell_type": "markdown",
   "metadata": {},
   "source": [
    "<span style=\"color:red;\">**Question 6-12:** What is the leftmost value in the weight tensor of the 1st `nn.Linear` layer in the network after updating? Limit to 4 decimal places.</span>"
   ]
  },
  {
   "cell_type": "markdown",
   "metadata": {},
   "source": [
    "0.0402"
   ]
  },
  {
   "cell_type": "markdown",
   "metadata": {},
   "source": [
    "## Putting all steps together\n",
    "\n",
    "We will train the model using mini-batch gradient descent. \n",
    "\n",
    "Use the `data_loader.py` file that we implemented in the previous notebook. Import the `DataLoader` class."
   ]
  },
  {
   "cell_type": "code",
   "execution_count": 151,
   "metadata": {},
   "outputs": [],
   "source": [
    "from data_loader import DataLoader"
   ]
  },
  {
   "cell_type": "markdown",
   "metadata": {},
   "source": [
    "Instantiate an `DataLoader` object. Pass the `X` and `y` of the train set and `32` as our `batch_size`. Assign it to the variable `data_loader`."
   ]
  },
  {
   "cell_type": "code",
   "execution_count": 152,
   "metadata": {},
   "outputs": [],
   "source": [
    "# Write your code here\n",
    "data_loader = DataLoader(X_train, y_train, batch_size=32)"
   ]
  },
  {
   "cell_type": "markdown",
   "metadata": {},
   "source": [
    "Train your network. Complete the code below."
   ]
  },
  {
   "cell_type": "code",
   "execution_count": null,
   "metadata": {},
   "outputs": [
    {
     "name": "stdout",
     "output_type": "stream",
     "text": [
      "Epoch: 1 \tLoss: 1.115301\n",
      "Epoch: 2 \tLoss: 1.100228\n",
      "Epoch: 3 \tLoss: 1.095927\n",
      "Epoch: 4 \tLoss: 1.092426\n",
      "Epoch: 5 \tLoss: 1.087661\n",
      "Epoch: 6 \tLoss: 1.079299\n",
      "Epoch: 7 \tLoss: 1.068151\n",
      "Epoch: 8 \tLoss: 1.052121\n",
      "Epoch: 9 \tLoss: 1.031673\n",
      "Epoch: 10 \tLoss: 1.004605\n",
      "Epoch: 11 \tLoss: 0.970433\n",
      "Epoch: 12 \tLoss: 0.928830\n",
      "Epoch: 13 \tLoss: 0.880139\n",
      "Epoch: 14 \tLoss: 0.824227\n",
      "Epoch: 15 \tLoss: 0.763497\n",
      "Epoch: 16 \tLoss: 0.700690\n",
      "Epoch: 17 \tLoss: 0.638018\n",
      "Epoch: 18 \tLoss: 0.576662\n",
      "Epoch: 19 \tLoss: 0.518670\n",
      "Epoch: 20 \tLoss: 0.465146\n",
      "Epoch: 21 \tLoss: 0.416143\n",
      "Epoch: 22 \tLoss: 0.372419\n",
      "Epoch: 23 \tLoss: 0.333319\n",
      "Epoch: 24 \tLoss: 0.298796\n",
      "Epoch: 25 \tLoss: 0.268405\n",
      "Epoch: 26 \tLoss: 0.241570\n",
      "Epoch: 27 \tLoss: 0.218110\n",
      "Epoch: 28 \tLoss: 0.197707\n",
      "Epoch: 29 \tLoss: 0.179749\n",
      "Epoch: 30 \tLoss: 0.164080\n",
      "Epoch: 31 \tLoss: 0.150332\n",
      "Epoch: 32 \tLoss: 0.137900\n",
      "Epoch: 33 \tLoss: 0.127224\n",
      "Epoch: 34 \tLoss: 0.117431\n",
      "Epoch: 35 \tLoss: 0.108892\n",
      "Epoch: 36 \tLoss: 0.101279\n",
      "Epoch: 37 \tLoss: 0.094447\n",
      "Epoch: 38 \tLoss: 0.088292\n",
      "Epoch: 39 \tLoss: 0.082814\n",
      "Epoch: 40 \tLoss: 0.077833\n",
      "Epoch: 41 \tLoss: 0.073381\n",
      "Epoch: 42 \tLoss: 0.069166\n",
      "Epoch: 43 \tLoss: 0.065532\n",
      "Epoch: 44 \tLoss: 0.062019\n",
      "Epoch: 45 \tLoss: 0.059029\n",
      "Epoch: 46 \tLoss: 0.056093\n",
      "Epoch: 47 \tLoss: 0.053494\n",
      "Epoch: 48 \tLoss: 0.051111\n",
      "Epoch: 49 \tLoss: 0.048874\n",
      "Epoch: 50 \tLoss: 0.046784\n",
      "Epoch: 51 \tLoss: 0.044874\n",
      "Epoch: 52 \tLoss: 0.043186\n",
      "Epoch: 53 \tLoss: 0.041482\n",
      "Epoch: 54 \tLoss: 0.039972\n",
      "Epoch: 55 \tLoss: 0.038561\n",
      "Epoch: 56 \tLoss: 0.037243\n",
      "Epoch: 57 \tLoss: 0.036086\n",
      "Epoch: 58 \tLoss: 0.034977\n",
      "Epoch: 59 \tLoss: 0.033611\n",
      "Epoch: 60 \tLoss: 0.032716\n",
      "Epoch: 61 \tLoss: 0.031643\n",
      "Epoch: 62 \tLoss: 0.030788\n",
      "Epoch: 63 \tLoss: 0.029948\n",
      "Epoch: 64 \tLoss: 0.029188\n",
      "Epoch: 65 \tLoss: 0.028361\n",
      "Epoch: 66 \tLoss: 0.027721\n",
      "Epoch: 67 \tLoss: 0.027002\n",
      "Epoch: 68 \tLoss: 0.026355\n",
      "Epoch: 69 \tLoss: 0.025751\n",
      "Epoch: 70 \tLoss: 0.025368\n",
      "Epoch: 71 \tLoss: 0.024700\n",
      "Epoch: 72 \tLoss: 0.024120\n",
      "Epoch: 73 \tLoss: 0.023669\n",
      "Epoch: 74 \tLoss: 0.023157\n",
      "Epoch: 75 \tLoss: 0.022808\n",
      "Epoch: 76 \tLoss: 0.022397\n",
      "Epoch: 77 \tLoss: 0.021933\n",
      "Epoch: 78 \tLoss: 0.021645\n",
      "Epoch: 79 \tLoss: 0.021192\n",
      "Epoch: 80 \tLoss: 0.020833\n",
      "Epoch: 81 \tLoss: 0.020498\n",
      "Epoch: 82 \tLoss: 0.020250\n",
      "Epoch: 83 \tLoss: 0.019954\n",
      "Epoch: 84 \tLoss: 0.019663\n",
      "Epoch: 85 \tLoss: 0.019341\n",
      "Epoch: 86 \tLoss: 0.019221\n",
      "Epoch: 87 \tLoss: 0.018817\n",
      "Epoch: 88 \tLoss: 0.018714\n",
      "Epoch: 89 \tLoss: 0.018461\n",
      "Epoch: 90 \tLoss: 0.018476\n",
      "Epoch: 91 \tLoss: 0.018016\n",
      "Epoch: 92 \tLoss: 0.017815\n",
      "Epoch: 93 \tLoss: 0.017585\n",
      "Epoch: 94 \tLoss: 0.017464\n",
      "Epoch: 95 \tLoss: 0.017255\n",
      "Epoch: 96 \tLoss: 0.017180\n",
      "Epoch: 97 \tLoss: 0.016975\n",
      "Epoch: 98 \tLoss: 0.016901\n",
      "Epoch: 99 \tLoss: 0.016932\n",
      "Epoch: 100 \tLoss: 0.016447\n",
      "Epoch: 101 \tLoss: 0.016413\n",
      "Epoch: 102 \tLoss: 0.016229\n",
      "Epoch: 103 \tLoss: 0.016119\n",
      "Epoch: 104 \tLoss: 0.016011\n",
      "Epoch: 105 \tLoss: 0.015852\n",
      "Epoch: 106 \tLoss: 0.015753\n",
      "Epoch: 107 \tLoss: 0.016077\n",
      "Epoch: 108 \tLoss: 0.015597\n",
      "Epoch: 109 \tLoss: 0.015432\n",
      "Epoch: 110 \tLoss: 0.015396\n",
      "Epoch: 111 \tLoss: 0.015180\n",
      "Epoch: 112 \tLoss: 0.015265\n",
      "Epoch: 113 \tLoss: 0.015077\n",
      "Epoch: 114 \tLoss: 0.015494\n",
      "Epoch: 115 \tLoss: 0.015007\n",
      "Epoch: 116 \tLoss: 0.014908\n",
      "Epoch: 117 \tLoss: 0.014795\n",
      "Epoch: 118 \tLoss: 0.014694\n",
      "Epoch: 119 \tLoss: 0.014625\n",
      "Epoch: 120 \tLoss: 0.014618\n",
      "Epoch: 121 \tLoss: 0.014592\n",
      "Epoch: 122 \tLoss: 0.014554\n",
      "Epoch: 123 \tLoss: 0.014508\n",
      "Epoch: 124 \tLoss: 0.014365\n",
      "Epoch: 125 \tLoss: 0.014346\n",
      "Epoch: 126 \tLoss: 0.014297\n",
      "Epoch: 127 \tLoss: 0.014113\n",
      "Epoch: 128 \tLoss: 0.014269\n",
      "Epoch: 129 \tLoss: 0.014077\n",
      "Epoch: 130 \tLoss: 0.014134\n",
      "Epoch: 131 \tLoss: 0.014031\n",
      "Epoch: 132 \tLoss: 0.013967\n",
      "Epoch: 133 \tLoss: 0.013959\n",
      "Epoch: 134 \tLoss: 0.013979\n",
      "Epoch: 135 \tLoss: 0.013890\n",
      "Epoch: 136 \tLoss: 0.013818\n",
      "Epoch: 137 \tLoss: 0.013778\n",
      "Epoch: 138 \tLoss: 0.013949\n",
      "Epoch: 139 \tLoss: 0.013891\n",
      "Epoch: 140 \tLoss: 0.013693\n",
      "Epoch: 141 \tLoss: 0.013719\n",
      "Epoch: 142 \tLoss: 0.013723\n",
      "Epoch: 143 \tLoss: 0.013575\n",
      "Epoch: 144 \tLoss: 0.013913\n",
      "Epoch: 145 \tLoss: 0.013564\n",
      "Epoch: 146 \tLoss: 0.013428\n",
      "Epoch: 147 \tLoss: 0.013458\n",
      "Epoch: 148 \tLoss: 0.013406\n",
      "Epoch: 149 \tLoss: 0.013468\n",
      "Epoch: 150 \tLoss: 0.013358\n",
      "Epoch: 151 \tLoss: 0.013600\n",
      "Epoch: 152 \tLoss: 0.013323\n",
      "Epoch: 153 \tLoss: 0.013292\n",
      "Epoch: 154 \tLoss: 0.013284\n",
      "Epoch: 155 \tLoss: 0.013382\n",
      "Epoch: 156 \tLoss: 0.013264\n",
      "Epoch: 157 \tLoss: 0.013182\n",
      "Epoch: 158 \tLoss: 0.013190\n",
      "Epoch: 159 \tLoss: 0.013104\n",
      "Epoch: 160 \tLoss: 0.013160\n",
      "Epoch: 161 \tLoss: 0.013206\n",
      "Epoch: 162 \tLoss: 0.013145\n",
      "Epoch: 163 \tLoss: 0.013101\n",
      "Epoch: 164 \tLoss: 0.013053\n",
      "Epoch: 165 \tLoss: 0.013149\n",
      "Epoch: 166 \tLoss: 0.013052\n",
      "Epoch: 167 \tLoss: 0.013276\n",
      "Epoch: 168 \tLoss: 0.013335\n",
      "Epoch: 169 \tLoss: 0.012987\n",
      "Epoch: 170 \tLoss: 0.013078\n",
      "Epoch: 171 \tLoss: 0.012980\n",
      "Epoch: 172 \tLoss: 0.012922\n",
      "Epoch: 173 \tLoss: 0.013246\n",
      "Epoch: 174 \tLoss: 0.012986\n",
      "Epoch: 175 \tLoss: 0.013023\n",
      "Epoch: 176 \tLoss: 0.012981\n",
      "Epoch: 177 \tLoss: 0.012988\n",
      "Epoch: 178 \tLoss: 0.012918\n",
      "Epoch: 179 \tLoss: 0.012929\n",
      "Epoch: 180 \tLoss: 0.013085\n",
      "Epoch: 181 \tLoss: 0.012961\n",
      "Epoch: 182 \tLoss: 0.013086\n",
      "Epoch: 183 \tLoss: 0.012856\n",
      "Epoch: 184 \tLoss: 0.012844\n",
      "Epoch: 185 \tLoss: 0.012913\n",
      "Epoch: 186 \tLoss: 0.012829\n",
      "Epoch: 187 \tLoss: 0.012843\n",
      "Epoch: 188 \tLoss: 0.012838\n",
      "Epoch: 189 \tLoss: 0.013277\n",
      "Epoch: 190 \tLoss: 0.012774\n",
      "Epoch: 191 \tLoss: 0.012816\n",
      "Epoch: 192 \tLoss: 0.012801\n",
      "Epoch: 193 \tLoss: 0.012888\n",
      "Epoch: 194 \tLoss: 0.012791\n",
      "Epoch: 195 \tLoss: 0.012714\n",
      "Epoch: 196 \tLoss: 0.012753\n",
      "Epoch: 197 \tLoss: 0.012931\n",
      "Epoch: 198 \tLoss: 0.012849\n",
      "Epoch: 199 \tLoss: 0.012886\n",
      "Epoch: 200 \tLoss: 0.012690\n"
     ]
    }
   ],
   "source": [
    "e = 0\n",
    "max_epochs = 400\n",
    "is_converged = False\n",
    "previous_loss = 0\n",
    "losses = []\n",
    "\n",
    "# For each epoch\n",
    "while e < max_epochs and is_converged is not True:\n",
    "    \n",
    "    current_epoch_loss = 0\n",
    "    \n",
    "    # TODO: Get the batch for this epoch.\n",
    "    X_batch, y_batch = data_loader.get_batch()\n",
    "    \n",
    "    # For each batch\n",
    "    for X, y in zip(X_batch, y_batch):\n",
    "        X = torch.Tensor(X)\n",
    "        y = torch.Tensor(y).to(torch.long)\n",
    "        \n",
    "        # TODO: Empty the gradients of the network.\n",
    "        optimizer.zero_grad()\n",
    "\n",
    "\n",
    "        \n",
    "        # TODO: Forward propagation\n",
    "        scores, probabilities = network.forward(X)\n",
    "        \n",
    "        # TODO: Compute the loss\n",
    "        loss = criterion(scores, y)\n",
    "        \n",
    "        # TODO: Backward propagation\n",
    "        loss.backward()\n",
    "        \n",
    "        # TODO: Update parameters\n",
    "        optimizer.step()\n",
    "        \n",
    "        current_epoch_loss += loss.item()\n",
    "    \n",
    "    average_loss = current_epoch_loss / len(X_batch)\n",
    "    losses.append(average_loss)\n",
    "    \n",
    "    # Display the average loss per epoch\n",
    "    print('Epoch:', e + 1, '\\tLoss: {:.6f}'.format(average_loss))\n",
    "    \n",
    "    if abs(previous_loss - loss) < 0.00005:\n",
    "        is_converged = True\n",
    "    else:\n",
    "        previous_loss = loss\n",
    "        e += 1"
   ]
  },
  {
   "cell_type": "markdown",
   "metadata": {},
   "source": [
    "<span style=\"color:red;\">**Question 6-13:** How many epochs did the model train before convergence?</span>"
   ]
  },
  {
   "cell_type": "markdown",
   "metadata": {},
   "source": [
    "200"
   ]
  },
  {
   "cell_type": "markdown",
   "metadata": {},
   "source": [
    "<span style=\"color:red;\">**Question 6-14:** What is the average loss at the last epoch? Limit to four decimal places.</span>"
   ]
  },
  {
   "cell_type": "markdown",
   "metadata": {},
   "source": [
    "0.0126"
   ]
  },
  {
   "cell_type": "markdown",
   "metadata": {},
   "source": [
    "## Try our trained network on the test data\n",
    "\n",
    "Set the network in test `eval` mode first, to avoid updating the weights."
   ]
  },
  {
   "cell_type": "code",
   "execution_count": 156,
   "metadata": {},
   "outputs": [
    {
     "data": {
      "text/plain": [
       "NeuralNetwork(\n",
       "  (layers): Sequential(\n",
       "    (0): Linear(in_features=2, out_features=5, bias=True)\n",
       "    (1): Sigmoid()\n",
       "    (2): Linear(in_features=5, out_features=10, bias=True)\n",
       "    (3): Sigmoid()\n",
       "    (4): Linear(in_features=10, out_features=3, bias=True)\n",
       "    (5): Softmax(dim=1)\n",
       "  )\n",
       ")"
      ]
     },
     "execution_count": 156,
     "metadata": {},
     "output_type": "execute_result"
    }
   ],
   "source": [
    "network.eval()"
   ]
  },
  {
   "cell_type": "markdown",
   "metadata": {},
   "source": [
    "Perform forward propagation on the test data. Assign the return values to variables `scores` and `probabilities`."
   ]
  },
  {
   "cell_type": "code",
   "execution_count": 158,
   "metadata": {},
   "outputs": [],
   "source": [
    "# Write your code here\n",
    "X_test = X_test.to(torch.float32)\n",
    "scores, probabilities = network.forward(X_test)"
   ]
  },
  {
   "cell_type": "markdown",
   "metadata": {},
   "source": [
    "Now, let's get the prediction results on the test data to see if our model can handle unseen instances. Store the predicted labels in the variable `predictions`."
   ]
  },
  {
   "cell_type": "code",
   "execution_count": 159,
   "metadata": {},
   "outputs": [],
   "source": [
    "# Write your code here\n",
    "predictions = network.predict(probabilities)"
   ]
  },
  {
   "cell_type": "code",
   "execution_count": 160,
   "metadata": {},
   "outputs": [
    {
     "name": "stdout",
     "output_type": "stream",
     "text": [
      "tensor([0, 0, 0, 0, 0, 0, 0, 0, 0, 0, 0, 0, 0, 0, 0, 0, 0, 0, 0, 0, 0, 0, 0, 0,\n",
      "        0, 0, 0, 0, 0, 0, 0, 0, 0, 0, 0, 0, 0, 0, 0, 0, 0, 0, 0, 0, 0, 0, 0, 0,\n",
      "        0, 0, 1, 1, 1, 1, 1, 1, 1, 1, 1, 1, 1, 1, 1, 1, 1, 1, 1, 1, 1, 1, 1, 1,\n",
      "        1, 1, 1, 1, 1, 1, 1, 1, 1, 1, 1, 1, 1, 1, 1, 1, 1, 1, 1, 1, 1, 1, 1, 1,\n",
      "        1, 1, 1, 1, 2, 2, 2, 2, 2, 2, 2, 2, 2, 2, 2, 2, 2, 2, 2, 2, 2, 2, 2, 2,\n",
      "        2, 2, 2, 2, 2, 2, 2, 2, 2, 2, 2, 2, 2, 2, 2, 2, 2, 2, 2, 2, 2, 2, 2, 2,\n",
      "        2, 2, 2, 2, 2, 2])\n"
     ]
    }
   ],
   "source": [
    "print(predictions)"
   ]
  },
  {
   "cell_type": "markdown",
   "metadata": {},
   "source": [
    "Compare the ground truth labels with the predicted labels. Store the total number of correct predictions in the variable `num_correct`."
   ]
  },
  {
   "cell_type": "code",
   "execution_count": 161,
   "metadata": {},
   "outputs": [],
   "source": [
    "# Write your code here\n",
    "num_correct = torch.sum(predictions == y_test)"
   ]
  },
  {
   "cell_type": "code",
   "execution_count": 162,
   "metadata": {},
   "outputs": [
    {
     "name": "stdout",
     "output_type": "stream",
     "text": [
      "tensor(150)\n"
     ]
    }
   ],
   "source": [
    "print(num_correct)"
   ]
  },
  {
   "cell_type": "markdown",
   "metadata": {},
   "source": [
    "Compute for the accuracy. Store the accuracy in the variable `accuracy`."
   ]
  },
  {
   "cell_type": "code",
   "execution_count": 164,
   "metadata": {},
   "outputs": [],
   "source": [
    "# Write your code here\n",
    "accuracy = num_correct/y_test.shape[0]"
   ]
  },
  {
   "cell_type": "code",
   "execution_count": 165,
   "metadata": {},
   "outputs": [
    {
     "name": "stdout",
     "output_type": "stream",
     "text": [
      "1.0000\n"
     ]
    }
   ],
   "source": [
    "print('{:.4f}'.format(accuracy))"
   ]
  },
  {
   "cell_type": "markdown",
   "metadata": {},
   "source": [
    "<span style=\"color:red;\">**Question 6-15:** What is the accuracy of the network when evaluated on the test set? Express your answer in a floating point number from 0 to 1. Limit to 4 decimal places.</span>"
   ]
  },
  {
   "cell_type": "markdown",
   "metadata": {},
   "source": [
    "1.0000"
   ]
  },
  {
   "cell_type": "markdown",
   "metadata": {},
   "source": [
    "Let's visualize the loss for each training epoch."
   ]
  },
  {
   "cell_type": "code",
   "execution_count": 166,
   "metadata": {},
   "outputs": [
    {
     "data": {
      "text/plain": [
       "Text(0.5, 1.0, 'Loss for each training epoch')"
      ]
     },
     "execution_count": 166,
     "metadata": {},
     "output_type": "execute_result"
    },
    {
     "data": {
      "image/png": "[encoded data removed]",
      "text/plain": [
       "<Figure size 800x800 with 1 Axes>"
      ]
     },
     "metadata": {},
     "output_type": "display_data"
    }
   ],
   "source": [
    "x_values = [i for i in range(len(losses))]\n",
    "y_values = losses\n",
    "\n",
    "plt.plot(x_values, y_values)\n",
    "plt.xlabel('Epochs')\n",
    "plt.ylabel('Loss')\n",
    "plt.title('Loss for each training epoch')"
   ]
  },
  {
   "cell_type": "markdown",
   "metadata": {},
   "source": [
    "<span style=\"color:green;\">**Question:** Around what epoch did our training converge, i.e., when there are minimal changes in the value of the loss?</span>"
   ]
  },
  {
   "cell_type": "markdown",
   "metadata": {},
   "source": [
    "# Iris Dataset\n",
    "We will use the Iris dataset as our dataset. Each instance represents an Iris flower using 4 distinct features:\n",
    "- `sepal_length` - length of the sepal in centimeters\n",
    "- `sepal_width` - width of the sepal in centimeters\n",
    "- `petal_length` - length of the petal in centimeters\n",
    "- `petal_width` - width of the petal in centimeters\n",
    "\n",
    "Iris flowers can be 3 divided into different classes, which are:\n",
    "- `Iris-setosa` - class `0`\n",
    "- `Iris-versicolor` - class `1`\n",
    "- `Iris-virginica` - class `2`"
   ]
  },
  {
   "cell_type": "markdown",
   "metadata": {},
   "source": [
    "Let's load `Iris.csv`."
   ]
  },
  {
   "cell_type": "code",
   "execution_count": 167,
   "metadata": {},
   "outputs": [
    {
     "name": "stdout",
     "output_type": "stream",
     "text": [
      "Training data shape: (150, 4)\n",
      "Ground truth values shape: (150,)\n"
     ]
    }
   ],
   "source": [
    "classes = {\n",
    "    'Iris-setosa': 0,\n",
    "    'Iris-versicolor': 1,\n",
    "    'Iris-virginica': 2\n",
    "}\n",
    "\n",
    "with open('Iris.csv', 'r') as csv_file:\n",
    "    raw_data = csv.reader(csv_file)\n",
    "    X_iris = np.empty((0, 4), float)\n",
    "    y_iris = np.empty((0, 1), int)\n",
    "    for row in raw_data:\n",
    "        X_iris = np.vstack([X_iris, np.array([float(row[0]),     # column for sepal_length\n",
    "                                              float(row[1]),     # column for sepal_width\n",
    "                                              float(row[2]),     # column for petal_length\n",
    "                                              float(row[3])])])  # column for petal_width\n",
    "        \n",
    "        y_iris = np.append(y_iris, np.array([classes[row[4]]]))  # column for class\n",
    "\n",
    "# This transforms the vector of length N into a matrix with shape (N, 1)\n",
    "y_house = np.expand_dims(y_iris, 1) \n",
    "\n",
    "print('Training data shape:', X_iris.shape)\n",
    "print('Ground truth values shape:', y_iris.shape)"
   ]
  },
  {
   "cell_type": "markdown",
   "metadata": {},
   "source": [
    "Let's get the number of instances per class."
   ]
  },
  {
   "cell_type": "code",
   "execution_count": 168,
   "metadata": {},
   "outputs": [
    {
     "name": "stdout",
     "output_type": "stream",
     "text": [
      "Number of class 0: 50\n",
      "Number of class 1: 50\n",
      "Number of class 2: 50\n"
     ]
    }
   ],
   "source": [
    "X_iris_0 = X_iris[y_iris == 0]\n",
    "X_iris_1 = X_iris[y_iris == 1]\n",
    "X_iris_2 = X_iris[y_iris == 2]\n",
    "\n",
    "print('Number of class 0:', len(X_iris_0))\n",
    "print('Number of class 1:', len(X_iris_1))\n",
    "print('Number of class 2:', len(X_iris_2))"
   ]
  },
  {
   "cell_type": "markdown",
   "metadata": {},
   "source": [
    "There are 50 instances for each class."
   ]
  },
  {
   "cell_type": "markdown",
   "metadata": {},
   "source": [
    "Let's divide the dataset into train and test set. The test set will contain 10 instances for each class."
   ]
  },
  {
   "cell_type": "code",
   "execution_count": 169,
   "metadata": {},
   "outputs": [
    {
     "name": "stdout",
     "output_type": "stream",
     "text": [
      "(30, 4)\n",
      "(30,)\n"
     ]
    }
   ],
   "source": [
    "np.random.seed(1)\n",
    "\n",
    "# Select 10 `class 0` instances\n",
    "selected_0 = np.random.choice(np.arange(len(X_iris_0)),\n",
    "                              size=10,\n",
    "                              replace=False)\n",
    "\n",
    "# Select 10 `class 1` instances\n",
    "selected_1 = np.random.choice(np.arange(len(X_iris_1)),\n",
    "                              size=10,\n",
    "                              replace=False)\n",
    "\n",
    "# Select 10 `class 2` instances\n",
    "selected_2 = np.random.choice(np.arange(len(X_iris_2)),\n",
    "                              size=10,\n",
    "                              replace=False)\n",
    "\n",
    "# Form the test set\n",
    "X_test = np.concatenate((X_iris_0[selected_0],\n",
    "                         X_iris_1[selected_1],\n",
    "                         X_iris_2[selected_2]))\n",
    "y_test = np.concatenate((np.array([0 for _ in range(10)]),\n",
    "                         np.array([1 for _ in range(10)]),\n",
    "                         np.array([2 for _ in range(10)])))\n",
    "\n",
    "print(X_test.shape)\n",
    "print(y_test.shape)"
   ]
  },
  {
   "cell_type": "markdown",
   "metadata": {},
   "source": [
    "The remaining 120 instances will be a part of the train set, where each class has 40 instances."
   ]
  },
  {
   "cell_type": "code",
   "execution_count": 170,
   "metadata": {},
   "outputs": [
    {
     "name": "stdout",
     "output_type": "stream",
     "text": [
      "(120, 4)\n",
      "(120,)\n"
     ]
    }
   ],
   "source": [
    "X_train = np.concatenate((np.delete(X_iris_0, selected_0, 0),\n",
    "                          np.delete(X_iris_1, selected_1, 0),\n",
    "                          np.delete(X_iris_2, selected_2, 0)))\n",
    "y_train = np.concatenate((np.array([0 for _ in range(40)]),\n",
    "                          np.array([1 for _ in range(40)]),\n",
    "                          np.array([2 for _ in range(40)])))\n",
    "\n",
    "print(X_train.shape)\n",
    "print(y_train.shape)"
   ]
  },
  {
   "cell_type": "markdown",
   "metadata": {},
   "source": [
    "Convert the `np.ndarray` arrays to `torch.Tensor`. We use `torch.Tensor` in PyTorch."
   ]
  },
  {
   "cell_type": "markdown",
   "metadata": {},
   "source": [
    "Convert the variable `X_train` to the datatype `torch.Tensor` and assign the return value to variable `X_train`."
   ]
  },
  {
   "cell_type": "code",
   "execution_count": 171,
   "metadata": {},
   "outputs": [],
   "source": [
    "# Write your code here\n",
    "X_train = torch.Tensor(X_train)"
   ]
  },
  {
   "cell_type": "markdown",
   "metadata": {},
   "source": [
    "Convert the variable `y_train` to the datatype `torch.Tensor` and assign the return value to variable `y_train`."
   ]
  },
  {
   "cell_type": "code",
   "execution_count": 173,
   "metadata": {},
   "outputs": [],
   "source": [
    "# Write your code here\n",
    "y_train = torch.Tensor(y_train)"
   ]
  },
  {
   "cell_type": "markdown",
   "metadata": {},
   "source": [
    "Convert the variable `X_test` to the datatype `torch.Tensor` and assign the return value to variable `X_test`."
   ]
  },
  {
   "cell_type": "code",
   "execution_count": 172,
   "metadata": {},
   "outputs": [],
   "source": [
    "# Write your code here\n",
    "X_test = torch.Tensor(X_test)"
   ]
  },
  {
   "cell_type": "markdown",
   "metadata": {},
   "source": [
    "Convert the variable `y_test` to the datatype `torch.Tensor` and assign the return value to variable `y_test`."
   ]
  },
  {
   "cell_type": "code",
   "execution_count": 174,
   "metadata": {},
   "outputs": [],
   "source": [
    "# Write your code here\n",
    "y_test = torch.Tensor(y_test)"
   ]
  },
  {
   "cell_type": "markdown",
   "metadata": {},
   "source": [
    "## Setting up the training pipeline\n",
    "\n",
    "Set-up the following:\n",
    "- Network\n",
    "- Optimizer\n",
    "- Loss function\n",
    "- Data loader"
   ]
  },
  {
   "cell_type": "markdown",
   "metadata": {},
   "source": [
    "Instantiate a `NeuralNetwork` object. Set the following parameters:\n",
    "- `list_hidden` = (5, 10)\n",
    "- `activation` = `sigmoid`\n",
    "\n",
    "Here, we are creating a Neural Network with two hidden layers, where there are 5 units in the first layer and 10 units in the second layer.\n",
    "\n",
    "Set the other parameters according to the Iris dataset."
   ]
  },
  {
   "cell_type": "code",
   "execution_count": 176,
   "metadata": {
    "scrolled": true
   },
   "outputs": [],
   "source": [
    "# Write your code here\n",
    "input_size = X_train.shape [1]\n",
    "num_classes = len(torch.unique(y_train))\n",
    "\n",
    "network = NeuralNetwork(\n",
    "    input_size,\n",
    "    num_classes,\n",
    "    list_hidden = (5,10),\n",
    "    activation = 'sigmoid'\n",
    ")"
   ]
  },
  {
   "cell_type": "markdown",
   "metadata": {},
   "source": [
    "Create the network and initialize the weights."
   ]
  },
  {
   "cell_type": "code",
   "execution_count": 180,
   "metadata": {},
   "outputs": [],
   "source": [
    "# Write your code here\n",
    "network.init_weights()\n",
    "network.create_network()"
   ]
  },
  {
   "cell_type": "markdown",
   "metadata": {},
   "source": [
    "Display the structure of the neural network."
   ]
  },
  {
   "cell_type": "code",
   "execution_count": 181,
   "metadata": {},
   "outputs": [
    {
     "name": "stdout",
     "output_type": "stream",
     "text": [
      "NeuralNetwork(\n",
      "  (layers): Sequential(\n",
      "    (0): Linear(in_features=4, out_features=5, bias=True)\n",
      "    (1): Sigmoid()\n",
      "    (2): Linear(in_features=5, out_features=10, bias=True)\n",
      "    (3): Sigmoid()\n",
      "    (4): Linear(in_features=10, out_features=3, bias=True)\n",
      "    (5): Softmax(dim=1)\n",
      "  )\n",
      ")\n"
     ]
    }
   ],
   "source": [
    "# Write your code here\n",
    "print(network)"
   ]
  },
  {
   "cell_type": "markdown",
   "metadata": {},
   "source": [
    "<span style=\"color:red;\">**Question 6-16:** Give the values of the `in_features` and `out_features of the first `nn.Linear` module (Index 0).</span>"
   ]
  },
  {
   "cell_type": "markdown",
   "metadata": {},
   "source": [
    "4, 5"
   ]
  },
  {
   "cell_type": "markdown",
   "metadata": {},
   "source": [
    "<span style=\"color:red;\">**Question 6-17:** Give the values of the `in_features` and `out_features` of the last `nn.Linear` module (Index 4).</span>"
   ]
  },
  {
   "cell_type": "markdown",
   "metadata": {},
   "source": [
    "10, 3"
   ]
  },
  {
   "cell_type": "markdown",
   "metadata": {},
   "source": [
    "We will use Adam as our optimizer.\n",
    "\n",
    "Instantiate an `optim.Adam` object. Set the following parameters:\n",
    "- `params` = Set this to the parameters of your network\n",
    "- `lr` = `0.001`"
   ]
  },
  {
   "cell_type": "code",
   "execution_count": 182,
   "metadata": {},
   "outputs": [],
   "source": [
    "# Write your code here\n",
    "optimizer = optim.Adam(params=network.parameters(), lr=0.001)"
   ]
  },
  {
   "cell_type": "markdown",
   "metadata": {},
   "source": [
    "Instantiate a `nn.CrossEntropy()` object. Do not change any default values set as parameter. Assign it to the variable `criterion`."
   ]
  },
  {
   "cell_type": "code",
   "execution_count": 183,
   "metadata": {},
   "outputs": [],
   "source": [
    "# Write your code here\n",
    "criterion = nn.CrossEntropyLoss()"
   ]
  },
  {
   "cell_type": "markdown",
   "metadata": {},
   "source": [
    "We will train the model using mini-batch gradient descent. \n",
    "\n",
    "Instantiate a `DataLoader` object. Pass the `X` and `y` of the train set and `32` as our `batch_size`. Assign it to the variable `data_loader`."
   ]
  },
  {
   "cell_type": "code",
   "execution_count": 184,
   "metadata": {},
   "outputs": [],
   "source": [
    "# Write your code here\n",
    "data_loader = DataLoader(X_train, y_train, batch_size=32)"
   ]
  },
  {
   "cell_type": "markdown",
   "metadata": {},
   "source": [
    "## Training the network\n",
    "\n",
    "Train your network. Complete the code below."
   ]
  },
  {
   "cell_type": "code",
   "execution_count": 185,
   "metadata": {},
   "outputs": [
    {
     "name": "stdout",
     "output_type": "stream",
     "text": [
      "Epoch: 1 \tLoss: 1.132889\n",
      "Epoch: 2 \tLoss: 1.122398\n",
      "Epoch: 3 \tLoss: 1.118306\n",
      "Epoch: 4 \tLoss: 1.112611\n",
      "Epoch: 5 \tLoss: 1.109779\n",
      "Epoch: 6 \tLoss: 1.107986\n",
      "Epoch: 7 \tLoss: 1.105413\n",
      "Epoch: 8 \tLoss: 1.102790\n",
      "Epoch: 9 \tLoss: 1.102508\n",
      "Epoch: 10 \tLoss: 1.102114\n",
      "Epoch: 11 \tLoss: 1.098879\n",
      "Epoch: 12 \tLoss: 1.098445\n",
      "Epoch: 13 \tLoss: 1.096948\n",
      "Epoch: 14 \tLoss: 1.096778\n",
      "Epoch: 15 \tLoss: 1.096752\n",
      "Epoch: 16 \tLoss: 1.095321\n",
      "Epoch: 17 \tLoss: 1.094990\n",
      "Epoch: 18 \tLoss: 1.094117\n",
      "Epoch: 19 \tLoss: 1.093607\n",
      "Epoch: 20 \tLoss: 1.093270\n",
      "Epoch: 21 \tLoss: 1.092790\n",
      "Epoch: 22 \tLoss: 1.092399\n",
      "Epoch: 23 \tLoss: 1.091721\n",
      "Epoch: 24 \tLoss: 1.091285\n",
      "Epoch: 25 \tLoss: 1.090852\n",
      "Epoch: 26 \tLoss: 1.090347\n",
      "Epoch: 27 \tLoss: 1.089785\n",
      "Epoch: 28 \tLoss: 1.089218\n",
      "Epoch: 29 \tLoss: 1.088782\n",
      "Epoch: 30 \tLoss: 1.088069\n",
      "Epoch: 31 \tLoss: 1.087341\n",
      "Epoch: 32 \tLoss: 1.086719\n",
      "Epoch: 33 \tLoss: 1.086263\n",
      "Epoch: 34 \tLoss: 1.085395\n",
      "Epoch: 35 \tLoss: 1.084470\n",
      "Epoch: 36 \tLoss: 1.083825\n",
      "Epoch: 37 \tLoss: 1.082846\n",
      "Epoch: 38 \tLoss: 1.081948\n",
      "Epoch: 39 \tLoss: 1.081035\n",
      "Epoch: 40 \tLoss: 1.079986\n",
      "Epoch: 41 \tLoss: 1.079178\n",
      "Epoch: 42 \tLoss: 1.078192\n",
      "Epoch: 43 \tLoss: 1.077158\n",
      "Epoch: 44 \tLoss: 1.075984\n",
      "Epoch: 45 \tLoss: 1.074490\n",
      "Epoch: 46 \tLoss: 1.073317\n",
      "Epoch: 47 \tLoss: 1.071759\n",
      "Epoch: 48 \tLoss: 1.070529\n",
      "Epoch: 49 \tLoss: 1.068950\n",
      "Epoch: 50 \tLoss: 1.067522\n",
      "Epoch: 51 \tLoss: 1.066001\n",
      "Epoch: 52 \tLoss: 1.064465\n",
      "Epoch: 53 \tLoss: 1.062866\n",
      "Epoch: 54 \tLoss: 1.061412\n",
      "Epoch: 55 \tLoss: 1.059610\n",
      "Epoch: 56 \tLoss: 1.057688\n",
      "Epoch: 57 \tLoss: 1.056069\n",
      "Epoch: 58 \tLoss: 1.054009\n",
      "Epoch: 59 \tLoss: 1.052364\n",
      "Epoch: 60 \tLoss: 1.050523\n",
      "Epoch: 61 \tLoss: 1.047743\n",
      "Epoch: 62 \tLoss: 1.045652\n",
      "Epoch: 63 \tLoss: 1.043211\n",
      "Epoch: 64 \tLoss: 1.040842\n",
      "Epoch: 65 \tLoss: 1.038689\n",
      "Epoch: 66 \tLoss: 1.036153\n",
      "Epoch: 67 \tLoss: 1.033528\n",
      "Epoch: 68 \tLoss: 1.031070\n",
      "Epoch: 69 \tLoss: 1.028300\n",
      "Epoch: 70 \tLoss: 1.024714\n",
      "Epoch: 71 \tLoss: 1.021952\n",
      "Epoch: 72 \tLoss: 1.018762\n",
      "Epoch: 73 \tLoss: 1.016899\n",
      "Epoch: 74 \tLoss: 1.012846\n",
      "Epoch: 75 \tLoss: 1.009933\n",
      "Epoch: 76 \tLoss: 1.005984\n",
      "Epoch: 77 \tLoss: 1.002817\n",
      "Epoch: 78 \tLoss: 0.998488\n",
      "Epoch: 79 \tLoss: 0.994338\n",
      "Epoch: 80 \tLoss: 0.990360\n",
      "Epoch: 81 \tLoss: 0.987921\n",
      "Epoch: 82 \tLoss: 0.982896\n",
      "Epoch: 83 \tLoss: 0.979197\n",
      "Epoch: 84 \tLoss: 0.974837\n",
      "Epoch: 85 \tLoss: 0.969980\n",
      "Epoch: 86 \tLoss: 0.965693\n",
      "Epoch: 87 \tLoss: 0.960680\n",
      "Epoch: 88 \tLoss: 0.957309\n",
      "Epoch: 89 \tLoss: 0.952116\n",
      "Epoch: 90 \tLoss: 0.947622\n",
      "Epoch: 91 \tLoss: 0.939846\n",
      "Epoch: 92 \tLoss: 0.935493\n",
      "Epoch: 93 \tLoss: 0.931653\n",
      "Epoch: 94 \tLoss: 0.928612\n",
      "Epoch: 95 \tLoss: 0.922029\n",
      "Epoch: 96 \tLoss: 0.917567\n",
      "Epoch: 97 \tLoss: 0.910081\n",
      "Epoch: 98 \tLoss: 0.904417\n",
      "Epoch: 99 \tLoss: 0.901113\n",
      "Epoch: 100 \tLoss: 0.892684\n",
      "Epoch: 101 \tLoss: 0.887153\n",
      "Epoch: 102 \tLoss: 0.881013\n",
      "Epoch: 103 \tLoss: 0.875901\n",
      "Epoch: 104 \tLoss: 0.872687\n",
      "Epoch: 105 \tLoss: 0.865045\n",
      "Epoch: 106 \tLoss: 0.861332\n",
      "Epoch: 107 \tLoss: 0.856338\n",
      "Epoch: 108 \tLoss: 0.848183\n",
      "Epoch: 109 \tLoss: 0.842600\n",
      "Epoch: 110 \tLoss: 0.837221\n",
      "Epoch: 111 \tLoss: 0.831457\n",
      "Epoch: 112 \tLoss: 0.822814\n",
      "Epoch: 113 \tLoss: 0.817636\n",
      "Epoch: 114 \tLoss: 0.811374\n",
      "Epoch: 115 \tLoss: 0.804180\n",
      "Epoch: 116 \tLoss: 0.800263\n",
      "Epoch: 117 \tLoss: 0.790060\n",
      "Epoch: 118 \tLoss: 0.788253\n",
      "Epoch: 119 \tLoss: 0.781451\n",
      "Epoch: 120 \tLoss: 0.776286\n",
      "Epoch: 121 \tLoss: 0.769336\n",
      "Epoch: 122 \tLoss: 0.766235\n",
      "Epoch: 123 \tLoss: 0.760519\n",
      "Epoch: 124 \tLoss: 0.753908\n",
      "Epoch: 125 \tLoss: 0.747805\n",
      "Epoch: 126 \tLoss: 0.741286\n",
      "Epoch: 127 \tLoss: 0.736158\n",
      "Epoch: 128 \tLoss: 0.732401\n",
      "Epoch: 129 \tLoss: 0.728441\n",
      "Epoch: 130 \tLoss: 0.719727\n",
      "Epoch: 131 \tLoss: 0.713448\n",
      "Epoch: 132 \tLoss: 0.708457\n",
      "Epoch: 133 \tLoss: 0.704771\n",
      "Epoch: 134 \tLoss: 0.703325\n",
      "Epoch: 135 \tLoss: 0.695986\n",
      "Epoch: 136 \tLoss: 0.686312\n",
      "Epoch: 137 \tLoss: 0.683233\n",
      "Epoch: 138 \tLoss: 0.678179\n",
      "Epoch: 139 \tLoss: 0.675175\n",
      "Epoch: 140 \tLoss: 0.668700\n",
      "Epoch: 141 \tLoss: 0.664084\n",
      "Epoch: 142 \tLoss: 0.658840\n",
      "Epoch: 143 \tLoss: 0.652570\n",
      "Epoch: 144 \tLoss: 0.646383\n",
      "Epoch: 145 \tLoss: 0.645460\n",
      "Epoch: 146 \tLoss: 0.641858\n",
      "Epoch: 147 \tLoss: 0.634014\n",
      "Epoch: 148 \tLoss: 0.626337\n",
      "Epoch: 149 \tLoss: 0.622981\n",
      "Epoch: 150 \tLoss: 0.625140\n",
      "Epoch: 151 \tLoss: 0.620655\n",
      "Epoch: 152 \tLoss: 0.611441\n",
      "Epoch: 153 \tLoss: 0.610876\n",
      "Epoch: 154 \tLoss: 0.610918\n",
      "Epoch: 155 \tLoss: 0.599795\n",
      "Epoch: 156 \tLoss: 0.600401\n",
      "Epoch: 157 \tLoss: 0.591706\n",
      "Epoch: 158 \tLoss: 0.590715\n",
      "Epoch: 159 \tLoss: 0.587860\n",
      "Epoch: 160 \tLoss: 0.585791\n",
      "Epoch: 161 \tLoss: 0.577233\n",
      "Epoch: 162 \tLoss: 0.577654\n",
      "Epoch: 163 \tLoss: 0.575776\n",
      "Epoch: 164 \tLoss: 0.569427\n",
      "Epoch: 165 \tLoss: 0.572662\n",
      "Epoch: 166 \tLoss: 0.566712\n",
      "Epoch: 167 \tLoss: 0.557058\n",
      "Epoch: 168 \tLoss: 0.561229\n",
      "Epoch: 169 \tLoss: 0.553039\n",
      "Epoch: 170 \tLoss: 0.555970\n",
      "Epoch: 171 \tLoss: 0.552310\n",
      "Epoch: 172 \tLoss: 0.550779\n",
      "Epoch: 173 \tLoss: 0.545715\n",
      "Epoch: 174 \tLoss: 0.543163\n",
      "Epoch: 175 \tLoss: 0.547366\n",
      "Epoch: 176 \tLoss: 0.538944\n",
      "Epoch: 177 \tLoss: 0.536372\n",
      "Epoch: 178 \tLoss: 0.533735\n",
      "Epoch: 179 \tLoss: 0.532137\n",
      "Epoch: 180 \tLoss: 0.533423\n",
      "Epoch: 181 \tLoss: 0.528460\n",
      "Epoch: 182 \tLoss: 0.527514\n",
      "Epoch: 183 \tLoss: 0.522827\n",
      "Epoch: 184 \tLoss: 0.523795\n",
      "Epoch: 185 \tLoss: 0.523110\n",
      "Epoch: 186 \tLoss: 0.520919\n",
      "Epoch: 187 \tLoss: 0.521339\n",
      "Epoch: 188 \tLoss: 0.518419\n",
      "Epoch: 189 \tLoss: 0.515720\n",
      "Epoch: 190 \tLoss: 0.510753\n",
      "Epoch: 191 \tLoss: 0.515209\n",
      "Epoch: 192 \tLoss: 0.506759\n",
      "Epoch: 193 \tLoss: 0.510975\n",
      "Epoch: 194 \tLoss: 0.504794\n",
      "Epoch: 195 \tLoss: 0.504743\n",
      "Epoch: 196 \tLoss: 0.501688\n",
      "Epoch: 197 \tLoss: 0.503470\n",
      "Epoch: 198 \tLoss: 0.498650\n",
      "Epoch: 199 \tLoss: 0.501838\n",
      "Epoch: 200 \tLoss: 0.499926\n",
      "Epoch: 201 \tLoss: 0.493208\n",
      "Epoch: 202 \tLoss: 0.497081\n",
      "Epoch: 203 \tLoss: 0.490200\n",
      "Epoch: 204 \tLoss: 0.494182\n",
      "Epoch: 205 \tLoss: 0.488588\n",
      "Epoch: 206 \tLoss: 0.486919\n",
      "Epoch: 207 \tLoss: 0.484631\n",
      "Epoch: 208 \tLoss: 0.483472\n",
      "Epoch: 209 \tLoss: 0.482663\n",
      "Epoch: 210 \tLoss: 0.479080\n",
      "Epoch: 211 \tLoss: 0.483686\n",
      "Epoch: 212 \tLoss: 0.475412\n",
      "Epoch: 213 \tLoss: 0.475552\n",
      "Epoch: 214 \tLoss: 0.481968\n",
      "Epoch: 215 \tLoss: 0.477427\n",
      "Epoch: 216 \tLoss: 0.475684\n",
      "Epoch: 217 \tLoss: 0.471822\n",
      "Epoch: 218 \tLoss: 0.467724\n",
      "Epoch: 219 \tLoss: 0.464733\n",
      "Epoch: 220 \tLoss: 0.470010\n",
      "Epoch: 221 \tLoss: 0.469433\n",
      "Epoch: 222 \tLoss: 0.462784\n",
      "Epoch: 223 \tLoss: 0.463564\n",
      "Epoch: 224 \tLoss: 0.460368\n",
      "Epoch: 225 \tLoss: 0.456077\n",
      "Epoch: 226 \tLoss: 0.453452\n",
      "Epoch: 227 \tLoss: 0.455356\n",
      "Epoch: 228 \tLoss: 0.453216\n",
      "Epoch: 229 \tLoss: 0.449085\n",
      "Epoch: 230 \tLoss: 0.447375\n",
      "Epoch: 231 \tLoss: 0.449843\n",
      "Epoch: 232 \tLoss: 0.443012\n",
      "Epoch: 233 \tLoss: 0.443757\n",
      "Epoch: 234 \tLoss: 0.440094\n",
      "Epoch: 235 \tLoss: 0.443673\n",
      "Epoch: 236 \tLoss: 0.442845\n",
      "Epoch: 237 \tLoss: 0.440324\n",
      "Epoch: 238 \tLoss: 0.439087\n",
      "Epoch: 239 \tLoss: 0.441906\n",
      "Epoch: 240 \tLoss: 0.436001\n",
      "Epoch: 241 \tLoss: 0.430070\n",
      "Epoch: 242 \tLoss: 0.431632\n",
      "Epoch: 243 \tLoss: 0.427671\n",
      "Epoch: 244 \tLoss: 0.431026\n",
      "Epoch: 245 \tLoss: 0.425477\n",
      "Epoch: 246 \tLoss: 0.423097\n",
      "Epoch: 247 \tLoss: 0.419341\n",
      "Epoch: 248 \tLoss: 0.422092\n",
      "Epoch: 249 \tLoss: 0.417709\n",
      "Epoch: 250 \tLoss: 0.419413\n",
      "Epoch: 251 \tLoss: 0.414127\n",
      "Epoch: 252 \tLoss: 0.419306\n",
      "Epoch: 253 \tLoss: 0.411966\n",
      "Epoch: 254 \tLoss: 0.408621\n",
      "Epoch: 255 \tLoss: 0.408972\n",
      "Epoch: 256 \tLoss: 0.411550\n",
      "Epoch: 257 \tLoss: 0.406405\n",
      "Epoch: 258 \tLoss: 0.405016\n",
      "Epoch: 259 \tLoss: 0.402175\n",
      "Epoch: 260 \tLoss: 0.403688\n",
      "Epoch: 261 \tLoss: 0.402368\n",
      "Epoch: 262 \tLoss: 0.400248\n",
      "Epoch: 263 \tLoss: 0.394698\n",
      "Epoch: 264 \tLoss: 0.396380\n",
      "Epoch: 265 \tLoss: 0.393798\n",
      "Epoch: 266 \tLoss: 0.391436\n",
      "Epoch: 267 \tLoss: 0.391373\n",
      "Epoch: 268 \tLoss: 0.383247\n",
      "Epoch: 269 \tLoss: 0.383793\n",
      "Epoch: 270 \tLoss: 0.388190\n",
      "Epoch: 271 \tLoss: 0.383276\n",
      "Epoch: 272 \tLoss: 0.382405\n",
      "Epoch: 273 \tLoss: 0.379167\n",
      "Epoch: 274 \tLoss: 0.373827\n",
      "Epoch: 275 \tLoss: 0.377549\n",
      "Epoch: 276 \tLoss: 0.373543\n",
      "Epoch: 277 \tLoss: 0.374107\n",
      "Epoch: 278 \tLoss: 0.369416\n",
      "Epoch: 279 \tLoss: 0.373743\n",
      "Epoch: 280 \tLoss: 0.366371\n",
      "Epoch: 281 \tLoss: 0.362152\n",
      "Epoch: 282 \tLoss: 0.367948\n",
      "Epoch: 283 \tLoss: 0.364218\n",
      "Epoch: 284 \tLoss: 0.363468\n",
      "Epoch: 285 \tLoss: 0.362355\n",
      "Epoch: 286 \tLoss: 0.356041\n",
      "Epoch: 287 \tLoss: 0.353632\n",
      "Epoch: 288 \tLoss: 0.355671\n",
      "Epoch: 289 \tLoss: 0.354230\n",
      "Epoch: 290 \tLoss: 0.357517\n",
      "Epoch: 291 \tLoss: 0.348748\n",
      "Epoch: 292 \tLoss: 0.348984\n",
      "Epoch: 293 \tLoss: 0.348274\n",
      "Epoch: 294 \tLoss: 0.347011\n",
      "Epoch: 295 \tLoss: 0.345968\n",
      "Epoch: 296 \tLoss: 0.340912\n",
      "Epoch: 297 \tLoss: 0.339369\n",
      "Epoch: 298 \tLoss: 0.341088\n",
      "Epoch: 299 \tLoss: 0.336648\n",
      "Epoch: 300 \tLoss: 0.338785\n"
     ]
    }
   ],
   "source": [
    "e = 0\n",
    "max_epochs = 300\n",
    "is_converged = False\n",
    "previous_loss = 0\n",
    "losses = []\n",
    "\n",
    "# For each epoch\n",
    "while e < max_epochs and is_converged is not True:\n",
    "    \n",
    "    current_epoch_loss = 0\n",
    "    \n",
    "    # TODO: Get the batch for this epoch.\n",
    "    X_batch, y_batch = data_loader.get_batch()\n",
    "    \n",
    "    # For each batch\n",
    "    for X, y in zip(X_batch, y_batch):\n",
    "        X = torch.Tensor(X)\n",
    "        y = torch.Tensor(y).to(torch.long)\n",
    "        \n",
    "        # TODO: Empty the gradients of the network.\n",
    "        optimizer.zero_grad()\n",
    "        \n",
    "        # TODO: Forward propagation\n",
    "        scores, probabilities = network.forward(X)\n",
    "        \n",
    "        # TODO: Compute the loss\n",
    "        loss = criterion(scores, y)\n",
    "        \n",
    "        # TODO: Backward propagation\n",
    "        loss.backward()        \n",
    "        \n",
    "        # TODO: Update parameters\n",
    "        optimizer.step()       \n",
    "        \n",
    "        \n",
    "        current_epoch_loss += loss.item()\n",
    "    \n",
    "    average_loss = current_epoch_loss / len(X_batch)\n",
    "    losses.append(average_loss)\n",
    "    \n",
    "    # Display the average loss per epoch\n",
    "    print('Epoch:', e + 1, '\\tLoss: {:.6f}'.format(average_loss))\n",
    "    \n",
    "    if abs(previous_loss - loss) < 0.00000005:\n",
    "        is_converged = True\n",
    "    else:\n",
    "        previous_loss = loss\n",
    "        e += 1"
   ]
  },
  {
   "cell_type": "markdown",
   "metadata": {},
   "source": [
    "## Try our trained network on the test data\n",
    "\n",
    "Set the network in test `eval` mode first, to avoid updating the weights."
   ]
  },
  {
   "cell_type": "code",
   "execution_count": 186,
   "metadata": {},
   "outputs": [
    {
     "data": {
      "text/plain": [
       "NeuralNetwork(\n",
       "  (layers): Sequential(\n",
       "    (0): Linear(in_features=4, out_features=5, bias=True)\n",
       "    (1): Sigmoid()\n",
       "    (2): Linear(in_features=5, out_features=10, bias=True)\n",
       "    (3): Sigmoid()\n",
       "    (4): Linear(in_features=10, out_features=3, bias=True)\n",
       "    (5): Softmax(dim=1)\n",
       "  )\n",
       ")"
      ]
     },
     "execution_count": 186,
     "metadata": {},
     "output_type": "execute_result"
    }
   ],
   "source": [
    "network.eval()"
   ]
  },
  {
   "cell_type": "markdown",
   "metadata": {},
   "source": [
    "Perform forward propagation on the test data. Assign the return values to variables `scores` and `probabilities`."
   ]
  },
  {
   "cell_type": "code",
   "execution_count": 187,
   "metadata": {},
   "outputs": [],
   "source": [
    "# Write your code here\n",
    "scores, probabilities = network.forward(X_test)"
   ]
  },
  {
   "cell_type": "markdown",
   "metadata": {},
   "source": [
    "Now, let's get the prediction results on the test data to see if our model can handle unseen instances. Store the predicted labels in the variable `predictions`."
   ]
  },
  {
   "cell_type": "code",
   "execution_count": 188,
   "metadata": {},
   "outputs": [],
   "source": [
    "# Write your code here\n",
    "predictions = network.predict(probabilities)"
   ]
  },
  {
   "cell_type": "code",
   "execution_count": 189,
   "metadata": {},
   "outputs": [
    {
     "name": "stdout",
     "output_type": "stream",
     "text": [
      "tensor([0, 0, 0, 0, 0, 0, 0, 0, 0, 0, 1, 1, 1, 1, 1, 2, 1, 1, 1, 1, 2, 2, 2, 2,\n",
      "        2, 2, 2, 2, 2, 2])\n"
     ]
    }
   ],
   "source": [
    "print(predictions)"
   ]
  },
  {
   "cell_type": "markdown",
   "metadata": {},
   "source": [
    "Compare the ground truth labels with the predicted labels. Store the total number of correct predictions in the variable `num_correct`."
   ]
  },
  {
   "cell_type": "code",
   "execution_count": 190,
   "metadata": {},
   "outputs": [],
   "source": [
    "# Write your code here\n",
    "num_correct = torch.sum(predictions == y_test).item()"
   ]
  },
  {
   "cell_type": "code",
   "execution_count": 191,
   "metadata": {},
   "outputs": [
    {
     "name": "stdout",
     "output_type": "stream",
     "text": [
      "29\n"
     ]
    }
   ],
   "source": [
    "print(num_correct)"
   ]
  },
  {
   "cell_type": "markdown",
   "metadata": {},
   "source": [
    "Compute for the accuracy. Store the accuracy in the variable `accuracy`."
   ]
  },
  {
   "cell_type": "code",
   "execution_count": 192,
   "metadata": {},
   "outputs": [],
   "source": [
    "# Write your code here\n",
    "accuracy = num_correct/y_test.shape[0]"
   ]
  },
  {
   "cell_type": "code",
   "execution_count": 193,
   "metadata": {},
   "outputs": [
    {
     "name": "stdout",
     "output_type": "stream",
     "text": [
      "0.9667\n"
     ]
    }
   ],
   "source": [
    "print('{:.4f}'.format(accuracy))"
   ]
  },
  {
   "cell_type": "markdown",
   "metadata": {},
   "source": [
    "<span style=\"color:red;\">**Question 6-18:** What is the accuracy of the network when evaluated on the test set? Express your answer in a floating point number from 0 to 1. Limit to 4 decimal places.</span>"
   ]
  },
  {
   "cell_type": "markdown",
   "metadata": {},
   "source": [
    "0.9667"
   ]
  },
  {
   "cell_type": "markdown",
   "metadata": {},
   "source": [
    "### <center>fin</center>"
   ]
  },
  {
   "cell_type": "markdown",
   "metadata": {},
   "source": [
    "\n",
    "<!-- DO NOT MODIFY OR DELETE THIS -->\n",
    "<sup>made/compiled by daniel stanley tan & courtney anne ngo 🐰 & thomas james tiam-lee</sup> <br>\n",
    "<sup>for comments, corrections, suggestions, please email:</sup><sup> danieltan07@gmail.com & courtneyngo@gmail.com & thomasjamestiamlee@gmail.com</sup><br>\n",
    "<sup>please cc your instructor, too</sup>\n",
    "<!-- DO NOT MODIFY OR DELETE THIS -->"
   ]
  }
 ],
 "metadata": {
  "kernelspec": {
   "display_name": "Python 3",
   "language": "python",
   "name": "python3"
  },
  "language_info": {
   "codemirror_mode": {
    "name": "ipython",
    "version": 3
   },
   "file_extension": ".py",
   "mimetype": "text/x-python",
   "name": "python",
   "nbconvert_exporter": "python",
   "pygments_lexer": "ipython3",
   "version": "3.12.9"
  }
 },
 "nbformat": 4,
 "nbformat_minor": 4
}
